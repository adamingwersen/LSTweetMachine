{
 "cells": [
  {
   "cell_type": "code",
   "execution_count": null,
   "metadata": {},
   "outputs": [],
   "source": [
    "import re\n",
    "import sqlite3\n",
    "import numpy as np\n",
    "import pandas as pd\n",
    "from time import time\n",
    "import tensorflow as tf\n",
    "from keras.optimizers import Adam\n",
    "from keras.regularizers import l2\n",
    "from keras.preprocessing.text import Tokenizer\n",
    "from keras.models import Sequential, load_model\n",
    "from keras.preprocessing.sequence import pad_sequences\n",
    "from keras.callbacks import ModelCheckpoint, TensorBoard\n",
    "from keras.layers import Dense, Activation, Embedding, Dropout, TimeDistributed, LSTM\n",
    "\n",
    "\"\"\" Custom Libs \"\"\"\n",
    "import Cleaner as c\n",
    "import TokenMgmt as tm"
   ]
  },
  {
   "cell_type": "code",
   "execution_count": null,
   "metadata": {},
   "outputs": [],
   "source": [
    "epochs      = 300\n",
    "dropout     = 0.5\n",
    "l2_reg      = 1e-4\n",
    "batch_sz    = 64\n",
    "learn_rate  = 1e-3\n",
    "beta_1      = 0.9\n",
    "beta_2      = 0.999\n",
    "epsilon     = None\n",
    "decay_rate  = 0\n",
    "amsgrad     = False\n",
    "run_model   = True"
   ]
  },
  {
   "cell_type": "code",
   "execution_count": null,
   "metadata": {},
   "outputs": [],
   "source": [
    "def fetch_profiles(filename, n):\n",
    "    f           = open(filename, 'r')\n",
    "    profiles    = f.read().splitlines()\n",
    "    f.close()\n",
    "    return(list(set(profiles[:n])))"
   ]
  },
  {
   "cell_type": "code",
   "execution_count": null,
   "metadata": {},
   "outputs": [],
   "source": [
    "sqlite_file = '../../data/database/deeplearning.sqlite'\n",
    "profilename = '../../data/profiles.txt'\n",
    "table_name  = 'tweets'\n",
    "profiles    = fetch_profiles(profilename, 10)\n",
    "profiles    = [p.strip('@') for p in profiles]\n",
    "cd          = c.CleanData(sqlite_file, table_name)\n",
    "q           = 'SELECT * FROM {} WHERE AUTHOR IN (\"{}\");'.format(table_name, '\", \"'.join(profiles))\n",
    "\n",
    "cd.set_table(q)\n",
    "data = cd.get_clean_table()\n",
    "_, total_words = tm.get_sequence_of_tokens(list(data.CleanText.values))\n",
    "x, y, max_sequence_len = tm.generate_padded_sequences(_, total_words)\n",
    "opt_adam = Adam(lr=learn_rate, beta_1=beta_1, beta_2=beta_2, epsilon=epsilon, decay=decay_rate, amsgrad=amsgrad)"
   ]
  },
  {
   "cell_type": "code",
   "execution_count": null,
   "metadata": {},
   "outputs": [],
   "source": [
    "def create_model(max_sequence_len, total_words):\n",
    "    input_len = max_sequence_len - 1\n",
    "    model = Sequential()\n",
    "    model.add(Embedding(total_words, 64, input_length = input_len))\n",
    "    if dropout != 0:\n",
    "        model.add(LSTM(256, dropout = dropout))\n",
    "    else:\n",
    "        model.add(LSTM(256))\n",
    "    if l2_reg != 0:\n",
    "        model.add(Dense(total_words, activation = 'softmax', bias_regularizer = l2(l2_reg)))\n",
    "    else:\n",
    "        model.add(Dense(total_words, activation = 'softmax'))\n",
    "    model.compile(loss = 'categorical_crossentropy', optimizer = opt_adam, metrics=['categorical_accuracy'])\n",
    "    checkpointer = ModelCheckpoint(filepath='model'\n",
    "                                   + '/single-user-model-{epoch:02d}.hdf5', verbose = 1)\n",
    "    tensorboard = TensorBoard(log_dir = 'tb-logs/{}'.format(time()))\n",
    "    return(model, checkpointer, tensorboard)"
   ]
  },
  {
   "cell_type": "code",
   "execution_count": null,
   "metadata": {},
   "outputs": [],
   "source": [
    "model, checkpointer, tensorboard = create_model(max_sequence_len, total_words)\n",
    "model.summary()"
   ]
  },
  {
   "cell_type": "code",
   "execution_count": null,
   "metadata": {},
   "outputs": [],
   "source": [
    "# !tensorboard --logdir=tb-logs/\n",
    "# TensorBoard 1.12.0 at http://xps:6006 (Press CTRL+C to quit)"
   ]
  },
  {
   "cell_type": "code",
   "execution_count": null,
   "metadata": {},
   "outputs": [],
   "source": [
    "if run_model == True:\n",
    "    if tf.test.is_gpu_available():\n",
    "        model.fit(x = x, y = y, \n",
    "                  epochs = epochs, \n",
    "                  batch_size = batch_sz,\n",
    "                  validation_split = 0.25,\n",
    "                  verbose = 1, \n",
    "                  callbacks=[checkpointer, tensorboard])"
   ]
  },
  {
   "cell_type": "code",
   "execution_count": null,
   "metadata": {},
   "outputs": [],
   "source": [
    "model_file = \"model/single-user-model-100.hdf5\"\n",
    "model = load_model(model_file)"
   ]
  },
  {
   "cell_type": "code",
   "execution_count": null,
   "metadata": {},
   "outputs": [],
   "source": [
    "print (tm.generate_text(\"Via\", 19, model, max_sequence_len))"
   ]
  },
  {
   "cell_type": "code",
   "execution_count": null,
   "metadata": {},
   "outputs": [],
   "source": [
    "def generate_train_val(obj, train_part):\n",
    "    data = obj.get_clean_table()\n",
    "    train = data.sample(frac=train_part, random_state=200)\n",
    "    val  = data.drop(train.index)\n",
    "    \n",
    "    _1, total_words = tm.get_sequence_of_tokens(list(data.CleanText.values))\n",
    "    _1, _2, max_seq_len = tm.generate_padded_sequences(_1, total_words)\n",
    "    \n",
    "    x_seq, total_words = tm.get_sequence_of_tokens(list(train.CleanText.values))\n",
    "    x_train, y_train, max_seq_len = tm.generate_padded_sequences(x_seq, total_words)\n",
    "    \n",
    "    x_seq, _ = tm.get_sequence_of_tokens(list(val.CleanText.values))\n",
    "    x_val, y_val, _ = tm.generate_padded_sequences(x_seq, _)\n",
    "    \n",
    "    return(x_train, y_train, x_val, y_val, total_words, max_seq_len)"
   ]
  }
 ],
 "metadata": {
  "kernelspec": {
   "display_name": "cs231n",
   "language": "python",
   "name": "cs231n"
  },
  "language_info": {
   "codemirror_mode": {
    "name": "ipython",
    "version": 3
   },
   "file_extension": ".py",
   "mimetype": "text/x-python",
   "name": "python",
   "nbconvert_exporter": "python",
   "pygments_lexer": "ipython3",
   "version": "3.6.7"
  }
 },
 "nbformat": 4,
 "nbformat_minor": 2
}
