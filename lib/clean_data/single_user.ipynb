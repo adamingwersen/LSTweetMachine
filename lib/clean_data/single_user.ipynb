{
 "cells": [
  {
   "cell_type": "code",
   "execution_count": null,
   "metadata": {},
   "outputs": [],
   "source": [
    "import re\n",
    "import sqlite3\n",
    "import numpy as np\n",
    "import pandas as pd\n",
    "from time import time\n",
    "import tensorflow as tf\n",
    "from keras.optimizers import Adam\n",
    "from keras.regularizers import l2\n",
    "from keras.preprocessing.text import Tokenizer\n",
    "from keras.models import Sequential, load_model\n",
    "from keras.preprocessing.sequence import pad_sequences\n",
    "from keras.callbacks import ModelCheckpoint, TensorBoard\n",
    "from keras.layers import Dense, Activation, Embedding, Dropout, TimeDistributed, LSTM\n",
    "\n",
    "\"\"\" Custom Libs \"\"\"\n",
    "import Cleaner as c\n",
    "import TokenMgmt as tm"
   ]
  },
  {
   "cell_type": "code",
   "execution_count": null,
   "metadata": {},
   "outputs": [],
   "source": [
    "epochs    = 300\n",
    "dropout   = 0.5\n",
    "l2_reg    = 1e-4\n",
    "batch_sz  = 64\n",
    "run_model = True"
   ]
  },
  {
   "cell_type": "code",
   "execution_count": null,
   "metadata": {},
   "outputs": [],
   "source": [
    "def fetch_profiles(filename, n):\n",
    "    f           = open(filename, 'r')\n",
    "    profiles    = f.read().splitlines()\n",
    "    f.close()\n",
    "    return(list(set(profiles[:n])))"
   ]
  },
  {
   "cell_type": "code",
   "execution_count": null,
   "metadata": {},
   "outputs": [],
   "source": [
    "sqlite_file = '../../data/database/deeplearning.sqlite'\n",
    "profilename = '../../data/profiles.txt'\n",
    "table_name  = 'tweets'\n",
    "profiles    = fetch_profiles(profilename)\n",
    "profiles    = [p.strip('@') for p in profiles]\n",
    "cd          = c.CleanData(sqlite_file, table_name)\n",
    "q           ='SELECT * FROM {} WHERE AUTHOR IN (\"{}\");'.format(table_name, '\", \"'.join(profiles))\n",
    "\n",
    "cd.set_table(q)\n",
    "data = cd.get_clean_table()\n",
    "\n",
    "inp_sequences, total_words = tm.get_sequence_of_tokens(list(data.CleanText.values))\n",
    "predictors, label, max_sequence_len = tm.generate_padded_sequences(inp_sequences, total_words)"
   ]
  },
  {
   "cell_type": "code",
   "execution_count": null,
   "metadata": {},
   "outputs": [],
   "source": [
    "def create_model(max_sequence_len, total_words):\n",
    "    input_len = max_sequence_len - 1\n",
    "    model = Sequential()\n",
    "    model.add(Embedding(total_words, 64, input_length = input_len))\n",
    "    model.add(LSTM(1080))\n",
    "    if dropout != 0:\n",
    "        model.add(Dropout(dropout))\n",
    "    if l2_reg != 0:\n",
    "        model.add(Dense(total_words, activation = 'softmax', bias_regularizer = l2(l2_reg)))\n",
    "    else:\n",
    "        model.add(Dense(total_words, activation = 'softmax'))\n",
    "    model.compile(loss = 'categorical_crossentropy', optimizer = 'adam')\n",
    "    checkpointer = ModelCheckpoint(filepath='model'\n",
    "                                   + '/single-user-model-{epoch:02d}.hdf5', verbose = 1)\n",
    "    tensorboard = TensorBoard(log_dir = 'tb-logs/{}'.format(time()))\n",
    "    return(model, checkpointer, tensorboard)"
   ]
  },
  {
   "cell_type": "code",
   "execution_count": null,
   "metadata": {},
   "outputs": [],
   "source": [
    "model, checkpointer, tensorboard = create_model(max_sequence_len, total_words)\n",
    "model.summary()"
   ]
  },
  {
   "cell_type": "code",
   "execution_count": null,
   "metadata": {},
   "outputs": [],
   "source": [
    "# !tensorboard --logdir=tb-logs/\n",
    "# TensorBoard 1.12.0 at http://xps:6006 (Press CTRL+C to quit)"
   ]
  },
  {
   "cell_type": "code",
   "execution_count": null,
   "metadata": {},
   "outputs": [],
   "source": [
    "if run_model == True:\n",
    "    if tf.test.is_gpu_available():\n",
    "        model.fit(predictors, label, \n",
    "                  epochs = epochs, \n",
    "                  batch_size = batch_sz, \n",
    "                  verbose = 1, \n",
    "                  callbacks=[checkpointer, tensorboard])"
   ]
  },
  {
   "cell_type": "code",
   "execution_count": null,
   "metadata": {},
   "outputs": [],
   "source": [
    "model_file = \"model/single-user-model-43.hdf5\"\n",
    "model = load_model(model_file)"
   ]
  },
  {
   "cell_type": "code",
   "execution_count": null,
   "metadata": {},
   "outputs": [],
   "source": [
    "print (tm.generate_text(\"Today\", 16, model, max_sequence_len))"
   ]
  },
  {
   "cell_type": "code",
   "execution_count": null,
   "metadata": {},
   "outputs": [],
   "source": []
  }
 ],
 "metadata": {
  "kernelspec": {
   "display_name": "cs231n",
   "language": "python",
   "name": "cs231n"
  },
  "language_info": {
   "codemirror_mode": {
    "name": "ipython",
    "version": 3
   },
   "file_extension": ".py",
   "mimetype": "text/x-python",
   "name": "python",
   "nbconvert_exporter": "python",
   "pygments_lexer": "ipython3",
   "version": "3.6.7"
  }
 },
 "nbformat": 4,
 "nbformat_minor": 2
}
