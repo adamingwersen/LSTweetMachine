{
 "cells": [
  {
   "cell_type": "code",
   "execution_count": 5,
   "metadata": {},
   "outputs": [],
   "source": [
    "import re\n",
    "import sqlite3\n",
    "import numpy as np\n",
    "import pandas as pd\n",
    "import tensorflow as tf\n",
    "from keras.optimizers import Adam\n",
    "from keras.callbacks import ModelCheckpoint\n",
    "from keras.models import Sequential, load_model\n",
    "from keras.layers import Dense, Activation, Embedding, Dropout, TimeDistributed, LSTM\n",
    "\n",
    "\n",
    "\"\"\" Custom Libs \"\"\"\n",
    "import Cleaner as c\n",
    "import TokenMgmt as tm"
   ]
  },
  {
   "cell_type": "code",
   "execution_count": 9,
   "metadata": {},
   "outputs": [
    {
     "data": {
      "text/plain": [
       "False"
      ]
     },
     "execution_count": 9,
     "metadata": {},
     "output_type": "execute_result"
    }
   ],
   "source": [
    "epochs = 150\n",
    "dropout = 0.2\n",
    "\n",
    "run_model = False\n",
    "model_file = \"\""
   ]
  },
  {
   "cell_type": "code",
   "execution_count": 11,
   "metadata": {},
   "outputs": [],
   "source": [
    "sqlite_file = '../../data/database/deeplearning.sqlite'\n",
    "table_name  = 'tweets'\n",
    "cd          = c.CleanData(sqlite_file, table_name)\n",
    "q           ='SELECT * FROM {} WHERE Author == \"simonlporter\";'.format(table_name)\n",
    "\n",
    "cd.set_table(q)\n",
    "data = cd.get_clean_table()\n",
    "\n",
    "inp_sequences, total_words = tm.get_sequence_of_tokens(list(data.CleanText.values))\n",
    "predictors, label, max_sequence_len = tm.generate_padded_sequences(inp_sequences, total_words)"
   ]
  },
  {
   "cell_type": "code",
   "execution_count": 8,
   "metadata": {},
   "outputs": [],
   "source": [
    "def create_model(max_sequence_len, total_words):\n",
    "    input_len = max_sequence_len - 1\n",
    "    model = Sequential()\n",
    "    model.add(Embedding(total_words, 40, input_length = input_len))\n",
    "    model.add(LSTM(256, return_sequences = True))\n",
    "    model.add(LSTM(512), return_sequences = True)\n",
    "    model.add(LSTM(128))\n",
    "    model.add(Dropout(dropout))\n",
    "    model.add(Dense(total_words, activation='softmax'))\n",
    "    model.compile(loss='categorical_crossentropy', optimizer = 'adam')\n",
    "    checkpointer = ModelCheckpoint(filepath='model' + '/single-user-model-{epoch:02d}.hdf5', verbose = 1)\n",
    "    return(model, checkpointer)"
   ]
  },
  {
   "cell_type": "code",
   "execution_count": null,
   "metadata": {},
   "outputs": [],
   "source": [
    "model, checkpointer = create_model(max_sequence_len, total_words)\n",
    "model.summary()"
   ]
  },
  {
   "cell_type": "code",
   "execution_count": null,
   "metadata": {},
   "outputs": [],
   "source": [
    "if run_model == True:\n",
    "    if tf.test.is_gpu_available():\n",
    "        model.fit(predictors, label, epochs = epochs, verbose = 1)\n",
    "else:\n",
    "    model.load_weights(model_file)"
   ]
  }
 ],
 "metadata": {
  "kernelspec": {
   "display_name": "cs231n",
   "language": "python",
   "name": "cs231n"
  },
  "language_info": {
   "codemirror_mode": {
    "name": "ipython",
    "version": 3
   },
   "file_extension": ".py",
   "mimetype": "text/x-python",
   "name": "python",
   "nbconvert_exporter": "python",
   "pygments_lexer": "ipython3",
   "version": "3.6.7"
  }
 },
 "nbformat": 4,
 "nbformat_minor": 2
}
