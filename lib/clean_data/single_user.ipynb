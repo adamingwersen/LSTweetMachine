{
 "cells": [
  {
   "cell_type": "code",
   "execution_count": 1,
   "metadata": {},
   "outputs": [
    {
     "name": "stderr",
     "output_type": "stream",
     "text": [
      "Using TensorFlow backend.\n"
     ]
    }
   ],
   "source": [
    "import re\n",
    "import sqlite3\n",
    "import numpy as np\n",
    "import pandas as pd\n",
    "from time import time\n",
    "import tensorflow as tf\n",
    "from keras.optimizers import Adam\n",
    "from keras.regularizers import l2\n",
    "from keras.preprocessing.text import Tokenizer\n",
    "from keras.models import Sequential, load_model\n",
    "from keras.preprocessing.sequence import pad_sequences\n",
    "from keras.callbacks import ModelCheckpoint, TensorBoard\n",
    "from keras.layers import Dense, Activation, Embedding, Dropout, TimeDistributed, LSTM\n",
    "\n",
    "\"\"\" Custom Libs \"\"\"\n",
    "import Cleaner as c\n",
    "import TokenMgmt as tm"
   ]
  },
  {
   "cell_type": "code",
   "execution_count": 7,
   "metadata": {},
   "outputs": [],
   "source": [
    "epochs      = 300\n",
    "dropout     = 0.1\n",
    "l2_reg      = 1e-4\n",
    "batch_sz    = 64\n",
    "learn_rate  = 1e-3\n",
    "beta_1      = 0.9\n",
    "beta_2      = 0.999\n",
    "epsilon     = None\n",
    "decay_rate  = 0\n",
    "amsgrad     = False\n",
    "run_model   = True"
   ]
  },
  {
   "cell_type": "code",
   "execution_count": 3,
   "metadata": {},
   "outputs": [],
   "source": [
    "def fetch_profiles(filename, n):\n",
    "    f           = open(filename, 'r')\n",
    "    profiles    = f.read().splitlines()\n",
    "    f.close()\n",
    "    return(list(set(profiles[:n])))"
   ]
  },
  {
   "cell_type": "code",
   "execution_count": 4,
   "metadata": {},
   "outputs": [],
   "source": [
    "sqlite_file = '../../data/database/deeplearning.sqlite'\n",
    "profilename = '../../data/profiles.txt'\n",
    "table_name  = 'tweets'\n",
    "profiles    = fetch_profiles(profilename, 10)\n",
    "profiles    = [p.strip('@') for p in profiles]\n",
    "cd          = c.CleanData(sqlite_file, table_name)\n",
    "q           = 'SELECT * FROM {} WHERE AUTHOR IN (\"{}\");'.format(table_name, '\", \"'.join(profiles))\n",
    "\n",
    "cd.set_table(q)\n",
    "data = cd.get_clean_table()\n",
    "_, total_words = tm.get_sequence_of_tokens(list(data.CleanText.values))\n",
    "x, y, max_sequence_len = tm.generate_padded_sequences(_, total_words)\n",
    "opt_adam = Adam(lr=learn_rate, beta_1=beta_1, beta_2=beta_2, epsilon=epsilon, decay=decay_rate, amsgrad=amsgrad)"
   ]
  },
  {
   "cell_type": "code",
   "execution_count": 8,
   "metadata": {},
   "outputs": [],
   "source": [
    "def create_model(max_sequence_len, total_words):\n",
    "    input_len = max_sequence_len - 1\n",
    "    model = Sequential()\n",
    "    model.add(Embedding(total_words, 500, input_length = input_len))\n",
    "    model.add(LSTM(512, return_sequences = True))\n",
    "    if dropout != 0:\n",
    "        model.add(Dropout(dropout))\n",
    "        model.add(LSTM(256))\n",
    "    else:\n",
    "        model.add(LSTM(256))\n",
    "    if l2_reg != 0:\n",
    "        model.add(Dense(total_words, activation = 'softmax', bias_regularizer = l2(l2_reg)))\n",
    "    else:\n",
    "        model.add(Dense(total_words, activation = 'softmax'))\n",
    "    model.compile(loss = 'categorical_crossentropy', optimizer = opt_adam, metrics=['categorical_accuracy'])\n",
    "    checkpointer = ModelCheckpoint(filepath='model'\n",
    "                                   + '/single-user-model-{epoch:02d}.hdf5', verbose = 1)\n",
    "    tensorboard = TensorBoard(log_dir = 'tb-logs/{}'.format(time()))\n",
    "    return(model, checkpointer, tensorboard)"
   ]
  },
  {
   "cell_type": "code",
   "execution_count": 9,
   "metadata": {},
   "outputs": [
    {
     "name": "stdout",
     "output_type": "stream",
     "text": [
      "_________________________________________________________________\n",
      "Layer (type)                 Output Shape              Param #   \n",
      "=================================================================\n",
      "embedding_2 (Embedding)      (None, 48, 500)           2848500   \n",
      "_________________________________________________________________\n",
      "lstm_2 (LSTM)                (None, 48, 512)           2074624   \n",
      "_________________________________________________________________\n",
      "dropout_1 (Dropout)          (None, 48, 512)           0         \n",
      "_________________________________________________________________\n",
      "lstm_3 (LSTM)                (None, 256)               787456    \n",
      "_________________________________________________________________\n",
      "dense_2 (Dense)              (None, 5697)              1464129   \n",
      "=================================================================\n",
      "Total params: 7,174,709\n",
      "Trainable params: 7,174,709\n",
      "Non-trainable params: 0\n",
      "_________________________________________________________________\n"
     ]
    }
   ],
   "source": [
    "model, checkpointer, tensorboard = create_model(max_sequence_len, total_words)\n",
    "model.summary()"
   ]
  },
  {
   "cell_type": "code",
   "execution_count": null,
   "metadata": {},
   "outputs": [],
   "source": [
    "# !tensorboard --logdir=tb-logs/\n",
    "# TensorBoard 1.12.0 at http://xps:6006 (Press CTRL+C to quit)"
   ]
  },
  {
   "cell_type": "code",
   "execution_count": 10,
   "metadata": {
    "scrolled": true
   },
   "outputs": [
    {
     "name": "stdout",
     "output_type": "stream",
     "text": [
      "Train on 23487 samples, validate on 7830 samples\n",
      "Epoch 1/300\n",
      "23487/23487 [==============================] - 69s 3ms/step - loss: 7.4206 - categorical_accuracy: 0.0325 - val_loss: 7.8720 - val_categorical_accuracy: 0.0301\n",
      "\n",
      "Epoch 00001: saving model to model/single-user-model-01.hdf5\n",
      "Epoch 2/300\n",
      "23487/23487 [==============================] - 84s 4ms/step - loss: 7.0550 - categorical_accuracy: 0.0339 - val_loss: 8.1527 - val_categorical_accuracy: 0.0301\n",
      "\n",
      "Epoch 00002: saving model to model/single-user-model-02.hdf5\n",
      "Epoch 3/300\n",
      "23487/23487 [==============================] - 68s 3ms/step - loss: 7.0629 - categorical_accuracy: 0.0331 - val_loss: 8.2500 - val_categorical_accuracy: 0.0301\n",
      "\n",
      "Epoch 00003: saving model to model/single-user-model-03.hdf5\n",
      "Epoch 4/300\n",
      "23487/23487 [==============================] - 70s 3ms/step - loss: 7.0640 - categorical_accuracy: 0.0325 - val_loss: 8.2101 - val_categorical_accuracy: 0.0301\n",
      "\n",
      "Epoch 00004: saving model to model/single-user-model-04.hdf5\n",
      "Epoch 5/300\n",
      "11072/23487 [=============>................] - ETA: 35s - loss: 7.0540 - categorical_accuracy: 0.0309"
     ]
    },
    {
     "ename": "KeyboardInterrupt",
     "evalue": "",
     "output_type": "error",
     "traceback": [
      "\u001b[0;31m---------------------------------------------------------------------------\u001b[0m",
      "\u001b[0;31mKeyboardInterrupt\u001b[0m                         Traceback (most recent call last)",
      "\u001b[0;32m<ipython-input-10-722249eacb1c>\u001b[0m in \u001b[0;36m<module>\u001b[0;34m()\u001b[0m\n\u001b[1;32m      6\u001b[0m                   \u001b[0mvalidation_split\u001b[0m \u001b[0;34m=\u001b[0m \u001b[0;36m0.25\u001b[0m\u001b[0;34m,\u001b[0m\u001b[0;34m\u001b[0m\u001b[0;34m\u001b[0m\u001b[0m\n\u001b[1;32m      7\u001b[0m                   \u001b[0mverbose\u001b[0m \u001b[0;34m=\u001b[0m \u001b[0;36m1\u001b[0m\u001b[0;34m,\u001b[0m\u001b[0;34m\u001b[0m\u001b[0;34m\u001b[0m\u001b[0m\n\u001b[0;32m----> 8\u001b[0;31m                   callbacks=[checkpointer, tensorboard])\n\u001b[0m",
      "\u001b[0;32m~/venvs/cs231n/lib/python3.6/site-packages/keras/engine/training.py\u001b[0m in \u001b[0;36mfit\u001b[0;34m(self, x, y, batch_size, epochs, verbose, callbacks, validation_split, validation_data, shuffle, class_weight, sample_weight, initial_epoch, steps_per_epoch, validation_steps, **kwargs)\u001b[0m\n\u001b[1;32m   1037\u001b[0m                                         \u001b[0minitial_epoch\u001b[0m\u001b[0;34m=\u001b[0m\u001b[0minitial_epoch\u001b[0m\u001b[0;34m,\u001b[0m\u001b[0;34m\u001b[0m\u001b[0;34m\u001b[0m\u001b[0m\n\u001b[1;32m   1038\u001b[0m                                         \u001b[0msteps_per_epoch\u001b[0m\u001b[0;34m=\u001b[0m\u001b[0msteps_per_epoch\u001b[0m\u001b[0;34m,\u001b[0m\u001b[0;34m\u001b[0m\u001b[0;34m\u001b[0m\u001b[0m\n\u001b[0;32m-> 1039\u001b[0;31m                                         validation_steps=validation_steps)\n\u001b[0m\u001b[1;32m   1040\u001b[0m \u001b[0;34m\u001b[0m\u001b[0m\n\u001b[1;32m   1041\u001b[0m     def evaluate(self, x=None, y=None,\n",
      "\u001b[0;32m~/venvs/cs231n/lib/python3.6/site-packages/keras/engine/training_arrays.py\u001b[0m in \u001b[0;36mfit_loop\u001b[0;34m(model, f, ins, out_labels, batch_size, epochs, verbose, callbacks, val_f, val_ins, shuffle, callback_metrics, initial_epoch, steps_per_epoch, validation_steps)\u001b[0m\n\u001b[1;32m    197\u001b[0m                     \u001b[0mins_batch\u001b[0m\u001b[0;34m[\u001b[0m\u001b[0mi\u001b[0m\u001b[0;34m]\u001b[0m \u001b[0;34m=\u001b[0m \u001b[0mins_batch\u001b[0m\u001b[0;34m[\u001b[0m\u001b[0mi\u001b[0m\u001b[0;34m]\u001b[0m\u001b[0;34m.\u001b[0m\u001b[0mtoarray\u001b[0m\u001b[0;34m(\u001b[0m\u001b[0;34m)\u001b[0m\u001b[0;34m\u001b[0m\u001b[0;34m\u001b[0m\u001b[0m\n\u001b[1;32m    198\u001b[0m \u001b[0;34m\u001b[0m\u001b[0m\n\u001b[0;32m--> 199\u001b[0;31m                 \u001b[0mouts\u001b[0m \u001b[0;34m=\u001b[0m \u001b[0mf\u001b[0m\u001b[0;34m(\u001b[0m\u001b[0mins_batch\u001b[0m\u001b[0;34m)\u001b[0m\u001b[0;34m\u001b[0m\u001b[0;34m\u001b[0m\u001b[0m\n\u001b[0m\u001b[1;32m    200\u001b[0m                 \u001b[0mouts\u001b[0m \u001b[0;34m=\u001b[0m \u001b[0mto_list\u001b[0m\u001b[0;34m(\u001b[0m\u001b[0mouts\u001b[0m\u001b[0;34m)\u001b[0m\u001b[0;34m\u001b[0m\u001b[0;34m\u001b[0m\u001b[0m\n\u001b[1;32m    201\u001b[0m                 \u001b[0;32mfor\u001b[0m \u001b[0ml\u001b[0m\u001b[0;34m,\u001b[0m \u001b[0mo\u001b[0m \u001b[0;32min\u001b[0m \u001b[0mzip\u001b[0m\u001b[0;34m(\u001b[0m\u001b[0mout_labels\u001b[0m\u001b[0;34m,\u001b[0m \u001b[0mouts\u001b[0m\u001b[0;34m)\u001b[0m\u001b[0;34m:\u001b[0m\u001b[0;34m\u001b[0m\u001b[0;34m\u001b[0m\u001b[0m\n",
      "\u001b[0;32m~/venvs/cs231n/lib/python3.6/site-packages/keras/backend/tensorflow_backend.py\u001b[0m in \u001b[0;36m__call__\u001b[0;34m(self, inputs)\u001b[0m\n\u001b[1;32m   2713\u001b[0m                 \u001b[0;32mreturn\u001b[0m \u001b[0mself\u001b[0m\u001b[0;34m.\u001b[0m\u001b[0m_legacy_call\u001b[0m\u001b[0;34m(\u001b[0m\u001b[0minputs\u001b[0m\u001b[0;34m)\u001b[0m\u001b[0;34m\u001b[0m\u001b[0;34m\u001b[0m\u001b[0m\n\u001b[1;32m   2714\u001b[0m \u001b[0;34m\u001b[0m\u001b[0m\n\u001b[0;32m-> 2715\u001b[0;31m             \u001b[0;32mreturn\u001b[0m \u001b[0mself\u001b[0m\u001b[0;34m.\u001b[0m\u001b[0m_call\u001b[0m\u001b[0;34m(\u001b[0m\u001b[0minputs\u001b[0m\u001b[0;34m)\u001b[0m\u001b[0;34m\u001b[0m\u001b[0;34m\u001b[0m\u001b[0m\n\u001b[0m\u001b[1;32m   2716\u001b[0m         \u001b[0;32melse\u001b[0m\u001b[0;34m:\u001b[0m\u001b[0;34m\u001b[0m\u001b[0;34m\u001b[0m\u001b[0m\n\u001b[1;32m   2717\u001b[0m             \u001b[0;32mif\u001b[0m \u001b[0mpy_any\u001b[0m\u001b[0;34m(\u001b[0m\u001b[0mis_tensor\u001b[0m\u001b[0;34m(\u001b[0m\u001b[0mx\u001b[0m\u001b[0;34m)\u001b[0m \u001b[0;32mfor\u001b[0m \u001b[0mx\u001b[0m \u001b[0;32min\u001b[0m \u001b[0minputs\u001b[0m\u001b[0;34m)\u001b[0m\u001b[0;34m:\u001b[0m\u001b[0;34m\u001b[0m\u001b[0;34m\u001b[0m\u001b[0m\n",
      "\u001b[0;32m~/venvs/cs231n/lib/python3.6/site-packages/keras/backend/tensorflow_backend.py\u001b[0m in \u001b[0;36m_call\u001b[0;34m(self, inputs)\u001b[0m\n\u001b[1;32m   2673\u001b[0m             \u001b[0mfetched\u001b[0m \u001b[0;34m=\u001b[0m \u001b[0mself\u001b[0m\u001b[0;34m.\u001b[0m\u001b[0m_callable_fn\u001b[0m\u001b[0;34m(\u001b[0m\u001b[0;34m*\u001b[0m\u001b[0marray_vals\u001b[0m\u001b[0;34m,\u001b[0m \u001b[0mrun_metadata\u001b[0m\u001b[0;34m=\u001b[0m\u001b[0mself\u001b[0m\u001b[0;34m.\u001b[0m\u001b[0mrun_metadata\u001b[0m\u001b[0;34m)\u001b[0m\u001b[0;34m\u001b[0m\u001b[0;34m\u001b[0m\u001b[0m\n\u001b[1;32m   2674\u001b[0m         \u001b[0;32melse\u001b[0m\u001b[0;34m:\u001b[0m\u001b[0;34m\u001b[0m\u001b[0;34m\u001b[0m\u001b[0m\n\u001b[0;32m-> 2675\u001b[0;31m             \u001b[0mfetched\u001b[0m \u001b[0;34m=\u001b[0m \u001b[0mself\u001b[0m\u001b[0;34m.\u001b[0m\u001b[0m_callable_fn\u001b[0m\u001b[0;34m(\u001b[0m\u001b[0;34m*\u001b[0m\u001b[0marray_vals\u001b[0m\u001b[0;34m)\u001b[0m\u001b[0;34m\u001b[0m\u001b[0;34m\u001b[0m\u001b[0m\n\u001b[0m\u001b[1;32m   2676\u001b[0m         \u001b[0;32mreturn\u001b[0m \u001b[0mfetched\u001b[0m\u001b[0;34m[\u001b[0m\u001b[0;34m:\u001b[0m\u001b[0mlen\u001b[0m\u001b[0;34m(\u001b[0m\u001b[0mself\u001b[0m\u001b[0;34m.\u001b[0m\u001b[0moutputs\u001b[0m\u001b[0;34m)\u001b[0m\u001b[0;34m]\u001b[0m\u001b[0;34m\u001b[0m\u001b[0;34m\u001b[0m\u001b[0m\n\u001b[1;32m   2677\u001b[0m \u001b[0;34m\u001b[0m\u001b[0m\n",
      "\u001b[0;32m~/venvs/cs231n/lib/python3.6/site-packages/tensorflow/python/client/session.py\u001b[0m in \u001b[0;36m__call__\u001b[0;34m(self, *args, **kwargs)\u001b[0m\n\u001b[1;32m   1397\u001b[0m           ret = tf_session.TF_SessionRunCallable(\n\u001b[1;32m   1398\u001b[0m               \u001b[0mself\u001b[0m\u001b[0;34m.\u001b[0m\u001b[0m_session\u001b[0m\u001b[0;34m.\u001b[0m\u001b[0m_session\u001b[0m\u001b[0;34m,\u001b[0m \u001b[0mself\u001b[0m\u001b[0;34m.\u001b[0m\u001b[0m_handle\u001b[0m\u001b[0;34m,\u001b[0m \u001b[0margs\u001b[0m\u001b[0;34m,\u001b[0m \u001b[0mstatus\u001b[0m\u001b[0;34m,\u001b[0m\u001b[0;34m\u001b[0m\u001b[0;34m\u001b[0m\u001b[0m\n\u001b[0;32m-> 1399\u001b[0;31m               run_metadata_ptr)\n\u001b[0m\u001b[1;32m   1400\u001b[0m         \u001b[0;32mif\u001b[0m \u001b[0mrun_metadata\u001b[0m\u001b[0;34m:\u001b[0m\u001b[0;34m\u001b[0m\u001b[0;34m\u001b[0m\u001b[0m\n\u001b[1;32m   1401\u001b[0m           \u001b[0mproto_data\u001b[0m \u001b[0;34m=\u001b[0m \u001b[0mtf_session\u001b[0m\u001b[0;34m.\u001b[0m\u001b[0mTF_GetBuffer\u001b[0m\u001b[0;34m(\u001b[0m\u001b[0mrun_metadata_ptr\u001b[0m\u001b[0;34m)\u001b[0m\u001b[0;34m\u001b[0m\u001b[0;34m\u001b[0m\u001b[0m\n",
      "\u001b[0;31mKeyboardInterrupt\u001b[0m: "
     ]
    }
   ],
   "source": [
    "if run_model == True:\n",
    "    if tf.test.is_gpu_available():\n",
    "        model.fit(x = x, y = y, \n",
    "                  epochs = epochs, \n",
    "                  batch_size = batch_sz,\n",
    "                  validation_split = 0.25,\n",
    "                  verbose = 1, \n",
    "                  callbacks=[checkpointer, tensorboard])"
   ]
  },
  {
   "cell_type": "code",
   "execution_count": 11,
   "metadata": {},
   "outputs": [],
   "source": [
    "model_file = \"model/single-user-model-100.hdf5\"\n",
    "model = load_model(model_file)"
   ]
  },
  {
   "cell_type": "code",
   "execution_count": 16,
   "metadata": {},
   "outputs": [
    {
     "name": "stdout",
     "output_type": "stream",
     "text": [
      "Social Media Getting To Know Facebook Fans Internet Retailer A Big Win For Kontagent Years Ago\n",
      "Bid Data Science Simplified Part 10 An Introduction To Classification Models In Enterprise Practitioners And In A\n",
      "Business Factors In The Successful Use Of Machine Learning What It Is Critical And Ray At\n",
      "Last Year Trends In Data Science And Machine Learning A Conversation With With Passing References To Build\n",
      "Be The Next Superpower Via Via Ht Via Via Video Via On More More Angeles Preferences\n"
     ]
    }
   ],
   "source": [
    "print (tm.generate_text(\"Social\", 15, model, max_sequence_len))\n",
    "print (tm.generate_text(\"Bid Data\", 15, model, max_sequence_len))\n",
    "print (tm.generate_text(\"Business\", 15, model, max_sequence_len))\n",
    "print (tm.generate_text(\"Last Year\", 15, model, max_sequence_len))\n",
    "print (tm.generate_text(\"Be\", 15, model, max_sequence_len))"
   ]
  },
  {
   "cell_type": "code",
   "execution_count": null,
   "metadata": {},
   "outputs": [],
   "source": [
    "def generate_train_val(obj, train_part):\n",
    "    data = obj.get_clean_table()\n",
    "    train = data.sample(frac=train_part, random_state=200)\n",
    "    val  = data.drop(train.index)\n",
    "    \n",
    "    _1, total_words = tm.get_sequence_of_tokens(list(data.CleanText.values))\n",
    "    _1, _2, max_seq_len = tm.generate_padded_sequences(_1, total_words)\n",
    "    \n",
    "    x_seq, total_words = tm.get_sequence_of_tokens(list(train.CleanText.values))\n",
    "    x_train, y_train, max_seq_len = tm.generate_padded_sequences(x_seq, total_words)\n",
    "    \n",
    "    x_seq, _ = tm.get_sequence_of_tokens(list(val.CleanText.values))\n",
    "    x_val, y_val, _ = tm.generate_padded_sequences(x_seq, _)\n",
    "    \n",
    "    return(x_train, y_train, x_val, y_val, total_words, max_seq_len)"
   ]
  }
 ],
 "metadata": {
  "kernelspec": {
   "display_name": "cs231n",
   "language": "python",
   "name": "cs231n"
  },
  "language_info": {
   "codemirror_mode": {
    "name": "ipython",
    "version": 3
   },
   "file_extension": ".py",
   "mimetype": "text/x-python",
   "name": "python",
   "nbconvert_exporter": "python",
   "pygments_lexer": "ipython3",
   "version": "3.6.7"
  }
 },
 "nbformat": 4,
 "nbformat_minor": 2
}
