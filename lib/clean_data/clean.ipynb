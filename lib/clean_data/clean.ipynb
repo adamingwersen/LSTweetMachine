{
 "cells": [
  {
   "cell_type": "code",
   "execution_count": 98,
   "metadata": {},
   "outputs": [],
   "source": [
    "import pandas as pd\n",
    "import numpy as np\n",
    "import sqlite3\n",
    "import re\n",
    "\n",
    "pd.set_option('display.max_colwidth', -1)"
   ]
  },
  {
   "cell_type": "code",
   "execution_count": 171,
   "metadata": {},
   "outputs": [],
   "source": [
    "sqlite_file = '../../data/database/deeplearning.sqlite'\n",
    "table_name  = 'tweets'\n",
    "nrows = 100\n",
    "\n",
    "cnxn = sqlite3.connect(sqlite_file)\n",
    "q    ='SELECT * FROM {} WHERE Author != \"bigdata\" LIMIT {};'.format(table_name, nrows)\n",
    "data = pd.read_sql_query(q, cnxn)"
   ]
  },
  {
   "cell_type": "code",
   "execution_count": 176,
   "metadata": {},
   "outputs": [
    {
     "data": {
      "text/plain": [
       "0       Our COO and one of ASI's co-founder Angie kicking off the 12th #ASIDemodaypic.twitter.com/FK8sHxK8Ql                                                                                                                                                                                                                              \n",
       "1       We kicked off a Research Fellowship at @ComputableLabs this summer, and it's been a wonderful way to exchange knowledge and help inform our internal R&D efforts. Our first ever fellow Artur Gorokh did an amazing job, and shares some thoughts here on our blog!https://twitter.com/ComputableLabs/status/1057690064065519621 …\n",
       "2       Beijing Meetup Oct. 28! Talks from Sogou, @Qiniu @JD_Corporate on production use cases with @Alluxio  Register: http://bit.ly/2OqXYuW pic.twitter.com/E6UlnmvjM0                                                                                                                                                                  \n",
       "3       Paul Allen was an inspiration, a mentor, and partner in posing the most fundamental question about intelligence.   My colleagues and I at Allen Institute for Artificial Intelligence (AI2) planto do everything over the coming years…https://lnkd.in/gdDP3wB https://lnkd.in/gttpy7r                                            \n",
       "4       With thanks to @luongthevinh @chickamade @sm4llbrain @jamescham @bigdata et al. for all the additional data points and perspectives.https://twitter.com/arimoinc/status/1050565025348378626 …                                                                                                                                     \n",
       "5       Anyone on this thing attending #TheAIConf in London? I'm presenting on data privacy in machine learning systems tomorrow and am in London until Friday afternoon - would be wonderful to see friendly faces in or out of the conference!                                                                                          \n",
       "6       When attending #TheAIConf, TonY folks found #PyTorch is becoming popular. So they wrote the below patch live at the conference BTW Jupyter support was recently added. If you want to do #TensorFlow on #Hadoop, give it a try!https://github.com/linkedin/TonY/pull/36 …                                                         \n",
       "7       .@bigdata provides excellent summary of current automation technologies at #TheAIConf, and quotes Amara’s Law: “We tend to overestimate the effect of a technology in the short run and underestimate the effect in the long run.”                                                                                                \n",
       "8       “AI for a Better World”. What an amazing person - this is what matters. #TheAIConf #AI ⁦@FaceMe⁩pic.twitter.com/SWFWjrOGun                                                                                                                                                                                                        \n",
       "9       Effective Spark DataFrames with @Alluxio  http://bit.ly/2NclZAs pic.twitter.com/HUbHqNCAaY                                                                                                                                                                                                                                        \n",
       "10      Can't commit to all 4 days at #TheAIConf in London? Consider the Pavilion Plus pass. Space is limited. Register today! https://oreil.ly/2CQHruU pic.twitter.com/3lutSGQVG7                                                                                                                                                        \n",
       "11      Where can AI truly advance Database Systems? Query Optimization. DQ is a new algorithm using Deep Reinforcement Learning to search the plan space. Exploits shared roots between QO and RL: dynamic programming. More here:http://bit.ly/DQisRL4QO                                                                                \n",
       "12      Get hands-on training with @awscloud #SageMaker building neural network architecture with #computervision tools at #TheAIConf. Space is limited! Register today. https://oreil.ly/2NsKcYl pic.twitter.com/IGgvpbw5Yr                                                                                                              \n",
       "13      [JUST ANNOUNCED] @quaesita, chief decision scientist @googlecloud, will deliver a keynote at #TheAIConf in London. Final weeks to register! https://oreil.ly/2Dh7xaI pic.twitter.com/T9PPKt78ZD                                                                                                                                   \n",
       "14      .@aerotrekker SVP and CDO @Intuit will deliver a keynote at #TheAIConf London | 8–11 October. Get your pass today! https://oreil.ly/2NQCP9f pic.twitter.com/EKuI5a0p8W                                                                                                                                                            \n",
       "15      Today is the last day to submit proposals to speak at #StrataData 2019 in San Francisco https://oreil.ly/2Mfgaps pic.twitter.com/y2dbHjSSFY                                                                                                                                                                                       \n",
       "16      We're in the same strata.                                                                                                                                                                                                                                                                                                         \n",
       "17      Here is a column chart of relative height of #Stratadata speakers.X axis: @JuliaAngwin @_jacobward @bigdata @cuttingpic.twitter.com/dFnEY6oKSW                                                                                                                                                                                    \n",
       "18      In AI, who defines “normal”?  You can’t have “enhanced” without some definition of “normal”.  How do different versions of normal exist between cultures, and account for marginalization? @mer__edith #TheAIConfpic.twitter.com/PTdhOraU0e                                                                                       \n",
       "19      Toward the Jet Age of machine learning  https://www.oreilly.com/ideas/toward-the-jet-age-of-machine-learning … via @evanrsparks                                                                                                                                                                                                   \n",
       "20      Our founder @evanrsparks will be speaking today at #TheAIConf about software development in the age of deep learning. 1:45 PM - 2:25 PM in Imperial A, come say hello!https://conferences.oreilly.com/artificial-intelligence/ai-ca/public/schedule/detail/68727 …                                                                \n",
       "21      Awesome coverage of the increasing usage of Deep Learning by @bigdata @rgrchenpic.twitter.com/k4m15sKVhp                                                                                                                                                                                                                          \n",
       "22      .@bigdata's keynote at #TheAIConf on recent #AI trends - references huge surge in interest in AI topics on @OReillyMedia learning: #DeepLearning #MachineLearning #TensorFlow +morepic.twitter.com/4hAtUO9cAy                                                                                                                     \n",
       "23      The calm before the reinforcement learning storm... ⁦@bigdata⁩ warming up the ⁦@ucbrise⁩ Introduction to Ray presenters at #TheAIConfpic.twitter.com/eceCa99WjX                                                                                                                                                                   \n",
       "24      [UPDATE] Conference passes for #TheAIConf in SF are SOLD OUT! A limited number of Pavilion Plus passes are still available.http://theaiconf.com/ca                                                                                                                                                                                \n",
       "25      I will be presenting at the forth coming O’Reilly conference taking place on October 9 – 11th at the Hilton London Metropole on: “Business forecasting using hybrid approach – A new forecasting method using deep learning and time series approach”. Hope to see you all!#TheAIConf                                             \n",
       "26      Notes from the first Ray meetup @bigdatahttps://www.oreilly.com/ideas/notes-from-the-first-ray-meetup …                                                                                                                                                                                                                           \n",
       "27      New on the O'Reilly Data Show podcast: @bigdata talks with @stochastician about building accessible tools for large-scale computation and #machinelearning                                                                                                                                                                        \n",
       "28      “Something out of nothing”https://medium.com/@rgrchen/something-out-of-nothing-125213e20086 …                                                                                                                                                                                                                                     \n",
       "29      Going to #StrataData ? Interested in learning and applying state of the art recommendation solutions? Check out my talk at 1:15pm Sep 12th https://conferences.oreilly.com/strata/strata-ny/public/schedule/detail/68280 … #Recsys @strataconf                                                                                    \n",
       "                                                                                                                            ...                                                                                                                                                                                                           \n",
       "70      Reminder: Best Price for #StrataData NY at the @javitscenter ends tonight https://oreil.ly/2JywWyn  #bigdata #datascience #AI #MLpic.twitter.com/77pnNBcoAs                                                                                                                                                                       \n",
       "71      Best Price ends today for #TheAIConf in San Francisco! Register before midnight PT tonight to save on your ticket. https://oreil.ly/2GTo5CY pic.twitter.com/hll0wUWaLr                                                                                                                                                            \n",
       "72      [LISTEN] The real value of data requires a holistic view of the end-to-end data pipeline: @bigdata talks to @Intuit CDO @aerotrekker on the latest edition of the  #OReillyMedia #DataShow podcasthttps://oreil.ly/2Jna5Ct                                                                                                        \n",
       "73      How to build privacy-preserving analytic products in the era of #GDPR (it's possible) via O'Reilly's Chief Data Scientist @bigdata https://oreil.ly/2jxS1ua   #dataprivacy                                                                                                                                                        \n",
       "74      .@mikiobraun on #MachineLearning in Research & Industry: Research explores and industry builds. But #DeepLearning might change the game again. #StrataDatapic.twitter.com/UOgrzAOYAL                                                                                                                                              \n",
       "75      Nice to meet @bigdata at #StrataData London. @EngineeringSpa @knowage_suitepic.twitter.com/QDH7QwjHxe                                                                                                                                                                                                                             \n",
       "76      We're building tools for the #AI applications of tomorrow, but will they be enough? O'Reilly's @Bigdata and @mikeloukides talk #deeplearning foundations for the futurehttps://oreil.ly/2FsiK3X                                                                                                                                   \n",
       "77      Here are our slides for #stratadata on the progress we've made on scalable vulnerability discovery with code property graphs: multi-layered, extensible and with support for multiple programming languages: https://drive.google.com/uc?export=download&id=1VdD-NORXhqg3ywFSQfXvEQSPCiJVuOLS …pic.twitter.com/iRjLfr8VY2         \n",
       "78      Many computer science programs are now including Ethics courses, so the next generation of data scientists will likely be much more aware of ethical issues with data use. @bigdata #StrataData #strataconfpic.twitter.com/yOODNxFBAH                                                                                             \n",
       "79      Ben Lorica (@bigdata) from @OReillyMedia just mentioned how @ComputableLabs is building an open protocol for improving how organisations exchange data #StrataData @strataconfpic.twitter.com/XNeVisxAWc                                                                                                                          \n",
       "80      Brilliant Keynote speech by Ben Lorica @bigdata on Data economic value as an asset and sharing principles #StrataData @strataconfpic.twitter.com/JcL47plRn4                                                                                                                                                                       \n",
       "81      Welcome to http://JD.com  & @Alluxio . joint presentation at #StrataData in London on how #Alluxio enables a real-time ad hoc analytics and real-time streaming.https://lnkd.in/gnaytaY                                                                                                                                           \n",
       "82      0/ Had the great privilege of interviewing Dave Patterson, Gu-Yeon Wei, @GregoryDiamos, @pbailis and other great folks pioneering the http://MLPerf.org  benchmark suite during @TheAIConf. A few takeaways to follow…https://www.oreilly.com/ideas/setting-benchmarks-in-machine-learning …                                      \n",
       "83      Case Study: Hedge Fund deploys machine learning in the cloud with @Alluxio http://bit.ly/2FUC621  Increased number of model runs/day by 4X. #ML #cloudpic.twitter.com/qsg5qzpFbd                                                                                                                                                  \n",
       "84      How to build privacy-preserving analytic products in the era of #GDPR (it's possible) via O'Reilly's Chief Data Scientist @bigdata https://oreil.ly/2jxS1ua  #dataprivacy                                                                                                                                                         \n",
       "85      We're building tools for the #AI applications of tomorrow, but will they be enough? O'Reilly's @bigdata and @mikeloukides talk #deeplearning foundations for the futurehttps://oreil.ly/2FsiK3X                                                                                                                                   \n",
       "86      So cool talking with @bigdata about #ethics in #AI. I've noted some highlights in the reply.https://twitter.com/strataconf/status/991601962775957504 …                                                                                                                                                                            \n",
       "87      Join Dave Patterson, Greg Diamos, and a host of ML luminaries for an exploration of MLPerf. Today at 11:55am in the Grand Ballroom.http://ow.ly/MC8830jNm5Q                                                                                                                                                                       \n",
       "88      The Self-Taught Data Scientist Curriculum #ai #iot #bigdata #automation #womenintech  http://rviv.ly/UeY5Au pic.twitter.com/9kmUWf3r7j                                                                                                                                                                                            \n",
       "89      #AI #IoT #BigData What the Internet of Things Means for Businesseshttp://bit.ly/2PLb17o                                                                                                                                                                                                                                           \n",
       "90      AI in Fintech – Current Applications and Use Cases http://ow.ly/JaiF101mpZ9  #AI #tech #SmallBusiness #IoT #BigDatapic.twitter.com/MvLob6lHK1                                                                                                                                                                                     \n",
       "91      Using Big Data To Understand The Cultural Wealth Of Cities http://bit.ly/2LBap1h  #AI #DataScience #BigData                                                                                                                                                                                                                       \n",
       "92      How to Build a Phone Assistant Using Voximplant Connector for Dialogflow http://ow.ly/FinT101moQ6  #AI #BigData #Data #IoTpic.twitter.com/tGzxVZr289                                                                                                                                                                              \n",
       "93      The very best things about owning your own business?.? Getting to call the shots Getting to decide who you want to work with and when Having the freedom to decide where on earth you’d like to work from, even if it’s Timbuktu Getting to bypass… https://ift.tt/2KfzFe8 pic.twitter.com/aoPWJgAtmB                             \n",
       "94      Better Model Performance Through Algorithmic Diversity http://bit.ly/2MQcqqU  #AI #DataScience #BigData                                                                                                                                                                                                                           \n",
       "95      Quantum Computing: What You Need (And Don't Need) to Know http://bit.ly/2zHmXkL  #AI #DataScience #BigData                                                                                                                                                                                                                        \n",
       "96      Setting Up Retail Stores for Machine Learning – Cameras, Microphones, and More http://ow.ly/qjqX101mlc2  #AI #tech #SmallBusiness #IoT #BigDatapic.twitter.com/uOAVp4zfCK                                                                                                                                                         \n",
       "97      A machine has figured out Rubik's Cube all by itself http://bit.ly/2LVzbcP  #AI #bigdata                                                                                                                                                                                                                                          \n",
       "98      18 Machine Learning Platforms For #Developershttps://dzone.com/articles/18-machine-learning-platforms-for-developers#AI … #DataScience #BigData #AI                                                                                                                                                                               \n",
       "99      Lots of aspiring #OnlineEntrepreneurs already joined the Clients+Caviar waitlist so they get first dibs to enroll (at 20% discount!).If you want the strategies I used to go from cube-dwelling #engineer to multi 6-figure #entrepreneur, join the list today! http://bit.ly/2Fsavds pic.twitter.com/CNC1TxkxLp                  \n",
       "Name: Text, Length: 100, dtype: object"
      ]
     },
     "execution_count": 176,
     "metadata": {},
     "output_type": "execute_result"
    }
   ],
   "source": [
    "data['Text']"
   ]
  },
  {
   "cell_type": "code",
   "execution_count": 173,
   "metadata": {},
   "outputs": [],
   "source": [
    "def strip_links(txt):\n",
    "    txt = re.sub(r'(?:\\w+|\\@\\w+|\\#\\w+)\\.twitter\\.com\\/\\w+', '', txt)\n",
    "    return(re.sub(r'(?:http|ftp|https)://(?:[\\w_-]+(?:(?:\\.[\\w_-]+)+))(?:[\\w.,@?^=%&:/~+#-]*[\\w@?^=%&/~+#-])?', '', txt))\n",
    "\n",
    "def strip_whitespace(txt):\n",
    "    txt = txt.strip(' ')\n",
    "    return(re.sub(r' +', ' ', txt))\n",
    "\n",
    "def strip_metachar(txt):\n",
    "    return(re.sub(r\"[^a-zA-Z0-9\\-\\@\\#\\.\\, ]+\", '', txt))\n",
    "\n",
    "def strip_ats(txt):\n",
    "    return(re.sub(r'\\@\\w*', '', txt))\n",
    "\n",
    "data['CleanText'] = data['Text'].apply(lambda t: strip_links(t))\n",
    "data['CleanText'] = data['CleanText'].apply(lambda t: strip_whitespace(t))\n",
    "data['CleanText'] = data['CleanText'].apply(lambda t: strip_metachar(t))\n",
    "data['CleanText'] = data['CleanText'].apply(lambda t: strip_ats(t))"
   ]
  },
  {
   "cell_type": "code",
   "execution_count": 175,
   "metadata": {},
   "outputs": [
    {
     "data": {
      "text/plain": [
       "0     Our COO and one of ASIs co-founder Angie kicking off the 12th                                                                                                                                                                                                                 \n",
       "1     We kicked off a Research Fellowship at  this summer, and its been a wonderful way to exchange knowledge and help inform our internal RD efforts. Our first ever fellow Artur Gorokh did an amazing job, and shares some thoughts here on our blog                             \n",
       "2     Beijing Meetup Oct. 28 Talks from Sogou,   on production use cases with  Register                                                                                                                                                                                             \n",
       "3     Paul Allen was an inspiration, a mentor, and partner in posing the most fundamental question about intelligence. My colleagues and I at Allen Institute for Artificial Intelligence AI2 planto do everything over the coming years                                            \n",
       "4     With thanks to      et al. for all the additional data points and perspectives.                                                                                                                                                                                               \n",
       "5     Anyone on this thing attending #TheAIConf in London Im presenting on data privacy in machine learning systems tomorrow and am in London until Friday afternoon - would be wonderful to see friendly faces in or out of the conference                                         \n",
       "6     When attending #TheAIConf, TonY folks found #PyTorch is becoming popular. So they wrote the below patch live at the conference BTW Jupyter support was recently added. If you want to do #TensorFlow on #Hadoop, give it a try                                                \n",
       "7     . provides excellent summary of current automation technologies at #TheAIConf, and quotes Amaras Law We tend to overestimate the effect of a technology in the short run and underestimate the effect in the long run.                                                        \n",
       "8     AI for a Better World. What an amazing person - this is what matters. #TheAIConf #AI                                                                                                                                                                                          \n",
       "9     Effective Spark DataFrames with                                                                                                                                                                                                                                               \n",
       "10    Cant commit to all 4 days at #TheAIConf in London Consider the Pavilion Plus pass. Space is limited. Register today                                                                                                                                                           \n",
       "11    Where can AI truly advance Database Systems Query Optimization. DQ is a new algorithm using Deep Reinforcement Learning to search the plan space. Exploits shared roots between QO and RL dynamic programming. More here                                                      \n",
       "12    Get hands-on training with  #SageMaker building neural network architecture with #computervision tools at #TheAIConf. Space is limited Register today.                                                                                                                        \n",
       "13    JUST ANNOUNCED , chief decision scientist , will deliver a keynote at #TheAIConf in London. Final weeks to register                                                                                                                                                           \n",
       "14    . SVP and CDO  will deliver a keynote at #TheAIConf London  811 October. Get your pass today                                                                                                                                                                                  \n",
       "15    Today is the last day to submit proposals to speak at #StrataData 2019 in San Francisco                                                                                                                                                                                       \n",
       "16    Were in the same strata.                                                                                                                                                                                                                                                      \n",
       "17    Here is a column chart of relative height of #Stratadata speakers.X axis                                                                                                                                                                                                      \n",
       "18    In AI, who defines normal You cant have enhanced without some definition of normal. How do different versions of normal exist between cultures, and account for marginalization                                                                                               \n",
       "19    Toward the Jet Age of machine learning  via                                                                                                                                                                                                                                   \n",
       "20    Our founder  will be speaking today at #TheAIConf about software development in the age of deep learning. 145 PM - 225 PM in Imperial A, come say hello                                                                                                                       \n",
       "21    Awesome coverage of the increasing usage of Deep Learning by                                                                                                                                                                                                                  \n",
       "22    . keynote at #TheAIConf on recent #AI trends - references huge surge in interest in AI topics on  learning #DeepLearning #MachineLearning #TensorFlow                                                                                                                         \n",
       "23    The calm before the reinforcement learning storm...  warming up the  Introduction to Ray presenters at                                                                                                                                                                        \n",
       "24    UPDATE Conference passes for #TheAIConf in SF are SOLD OUT A limited number of Pavilion Plus passes are still available.                                                                                                                                                      \n",
       "25    I will be presenting at the forth coming OReilly conference taking place on October 9  11th at the Hilton London Metropole on Business forecasting using hybrid approach  A new forecasting method using deep learning and time series approach. Hope to see you all#TheAIConf\n",
       "26    Notes from the first Ray meetup                                                                                                                                                                                                                                               \n",
       "27    New on the OReilly Data Show podcast  talks with  about building accessible tools for large-scale computation and #machinelearning                                                                                                                                            \n",
       "28    Something out of nothing                                                                                                                                                                                                                                                      \n",
       "29    Going to #StrataData  Interested in learning and applying state of the art recommendation solutions Check out my talk at 115pm Sep 12th  #Recsys                                                                                                                              \n",
       "                                                                            ...                                                                                                                                                                                                     \n",
       "70    Reminder Best Price for #StrataData NY at the  ends tonight  #bigdata #datascience #AI                                                                                                                                                                                        \n",
       "71    Best Price ends today for #TheAIConf in San Francisco Register before midnight PT tonight to save on your ticket.                                                                                                                                                             \n",
       "72    LISTEN The real value of data requires a holistic view of the end-to-end data pipeline  talks to  CDO  on the latest edition of the #OReillyMedia #DataShow podcast                                                                                                           \n",
       "73    How to build privacy-preserving analytic products in the era of #GDPR its possible via OReillys Chief Data Scientist   #dataprivacy                                                                                                                                           \n",
       "74    . on #MachineLearning in Research  Industry Research explores and industry builds. But #DeepLearning might change the game again.                                                                                                                                             \n",
       "75    Nice to meet  at #StrataData London.                                                                                                                                                                                                                                          \n",
       "76    Were building tools for the #AI applications of tomorrow, but will they be enough OReillys  and  talk #deeplearning foundations for the future                                                                                                                                \n",
       "77    Here are our slides for #stratadata on the progress weve made on scalable vulnerability discovery with code property graphs multi-layered, extensible and with support for multiple programming languages                                                                     \n",
       "78    Many computer science programs are now including Ethics courses, so the next generation of data scientists will likely be much more aware of ethical issues with data use.  #StrataData                                                                                       \n",
       "79    Ben Lorica  from  just mentioned how  is building an open protocol for improving how organisations exchange data #StrataData                                                                                                                                                  \n",
       "80    Brilliant Keynote speech by Ben Lorica  on Data economic value as an asset and sharing principles #StrataData                                                                                                                                                                 \n",
       "81    Welcome to    . joint presentation at #StrataData in London on how #Alluxio enables a real-time ad hoc analytics and real-time streaming.                                                                                                                                     \n",
       "82    0 Had the great privilege of interviewing Dave Patterson, Gu-Yeon Wei, ,  and other great folks pioneering the  benchmark suite during . A few takeaways to follow                                                                                                            \n",
       "83    Case Study Hedge Fund deploys machine learning in the cloud with   Increased number of model runsday by 4X. #ML                                                                                                                                                               \n",
       "84    How to build privacy-preserving analytic products in the era of #GDPR its possible via OReillys Chief Data Scientist   #dataprivacy                                                                                                                                           \n",
       "85    Were building tools for the #AI applications of tomorrow, but will they be enough OReillys  and  talk #deeplearning foundations for the future                                                                                                                                \n",
       "86    So cool talking with  about #ethics in #AI. Ive noted some highlights in the reply.                                                                                                                                                                                           \n",
       "87    Join Dave Patterson, Greg Diamos, and a host of ML luminaries for an exploration of MLPerf. Today at 1155am in the Grand Ballroom.                                                                                                                                            \n",
       "88    The Self-Taught Data Scientist Curriculum #ai #iot #bigdata #automation #womenintech                                                                                                                                                                                          \n",
       "89    #AI #IoT #BigData What the Internet of Things Means for Businesses                                                                                                                                                                                                            \n",
       "90    AI in Fintech  Current Applications and Use Cases  #AI #tech #SmallBusiness #IoT                                                                                                                                                                                              \n",
       "91    Using Big Data To Understand The Cultural Wealth Of Cities  #AI #DataScience #BigData                                                                                                                                                                                         \n",
       "92    How to Build a Phone Assistant Using Voximplant Connector for Dialogflow  #AI #BigData #Data                                                                                                                                                                                  \n",
       "93    The very best things about owning your own business. Getting to call the shots Getting to decide who you want to work with and when Having the freedom to decide where on earth youd like to work from, even if its Timbuktu Getting to bypass                                \n",
       "94    Better Model Performance Through Algorithmic Diversity  #AI #DataScience #BigData                                                                                                                                                                                             \n",
       "95    Quantum Computing What You Need And Dont Need to Know  #AI #DataScience #BigData                                                                                                                                                                                              \n",
       "96    Setting Up Retail Stores for Machine Learning  Cameras, Microphones, and More  #AI #tech #SmallBusiness #IoT                                                                                                                                                                  \n",
       "97    A machine has figured out Rubiks Cube all by itself  #AI #bigdata                                                                                                                                                                                                             \n",
       "98    18 Machine Learning Platforms For #Developers #DataScience #BigData #AI                                                                                                                                                                                                       \n",
       "99    Lots of aspiring #OnlineEntrepreneurs already joined the ClientsCaviar waitlist so they get first dibs to enroll at 20 discount.If you want the strategies I used to go from cube-dwelling #engineer to multi 6-figure #entrepreneur, join the list today                     \n",
       "Name: CleanText, Length: 100, dtype: object"
      ]
     },
     "execution_count": 175,
     "metadata": {},
     "output_type": "execute_result"
    }
   ],
   "source": [
    "data['CleanText']"
   ]
  },
  {
   "cell_type": "code",
   "execution_count": 138,
   "metadata": {},
   "outputs": [
    {
     "data": {
      "text/plain": [
       "numpy.ndarray"
      ]
     },
     "execution_count": 138,
     "metadata": {},
     "output_type": "execute_result"
    }
   ],
   "source": [
    "type(data.CleanText.values)"
   ]
  },
  {
   "cell_type": "code",
   "execution_count": null,
   "metadata": {},
   "outputs": [],
   "source": []
  }
 ],
 "metadata": {
  "kernelspec": {
   "display_name": "twitter",
   "language": "python",
   "name": "twitter"
  },
  "language_info": {
   "codemirror_mode": {
    "name": "ipython",
    "version": 3
   },
   "file_extension": ".py",
   "mimetype": "text/x-python",
   "name": "python",
   "nbconvert_exporter": "python",
   "pygments_lexer": "ipython3",
   "version": "3.6.7"
  }
 },
 "nbformat": 4,
 "nbformat_minor": 2
}
