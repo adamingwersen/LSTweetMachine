{
 "cells": [
  {
   "cell_type": "code",
   "execution_count": 35,
   "metadata": {},
   "outputs": [],
   "source": [
    "import re\n",
    "import sqlite3\n",
    "import numpy as np\n",
    "import pandas as pd\n",
    "import tensorflow as tf\n",
    "from keras.optimizers import Adam\n",
    "from keras.preprocessing.sequence import pad_sequences\n",
    "from keras.regularizers import l2\n",
    "from keras.preprocessing.text import Tokenizer\n",
    "from keras.models import Sequential, load_model\n",
    "from keras.preprocessing.sequence import pad_sequences\n",
    "from keras.callbacks import ModelCheckpoint, TensorBoard\n",
    "from keras.layers import Dense, Activation, Embedding, Dropout, TimeDistributed, LSTM\n",
    "from keras.callbacks import EarlyStopping\n",
    "from keras.models import Sequential\n",
    "import keras.utils as ku\n",
    "import numpy as np\n",
    "from time import time"
   ]
  },
  {
   "cell_type": "code",
   "execution_count": 36,
   "metadata": {},
   "outputs": [],
   "source": [
    "def fetch_profiles(filename, n):\n",
    "    f           = open(filename, 'r')\n",
    "    profiles    = f.read().splitlines()\n",
    "    f.close()\n",
    "    return(list(set(profiles[:n])))"
   ]
  },
  {
   "cell_type": "code",
   "execution_count": 39,
   "metadata": {},
   "outputs": [],
   "source": [
    "\"\"\" Custom Libs \"\"\"\n",
    "import Cleaner as c\n",
    "\n",
    "#Read tweets\n",
    "profilename = '../../data/profiles.txt'\n",
    "sqlite_file = '../../data/database/deeplearning.sqlite'\n",
    "table_name  = 'tweets'\n",
    "profiles    = fetch_profiles(profilename, 2)\n",
    "profiles    = [p.strip('@') for p in profiles]\n",
    "cd          = c.CleanData(sqlite_file, table_name)\n",
    "q           = 'SELECT * FROM {} WHERE AUTHOR IN (\"{}\");'.format(table_name, '\", \"'.join(profiles))\n",
    "\n",
    "cd.set_table(q)\n",
    "data = cd.get_clean_table().CleanText.values\n",
    "\n",
    "data_2 = ''\n",
    "for x in data:\n",
    "  data_2 += x + \"\\n\"\n",
    "data = data_2\n",
    "\n",
    "np.random.seed(0)\n",
    "\n",
    "tokenizer = Tokenizer()"
   ]
  },
  {
   "cell_type": "code",
   "execution_count": 40,
   "metadata": {},
   "outputs": [
    {
     "data": {
      "text/plain": [
       "'top 20 digital experts by via rt\\nrescue mt\\nthis is what will look like in 2027\\nhow do we implement\\n2018 trends ht\\nthe revolution mt\\nthe nature of and in supply and demand mt\\nwhat are some advantages of blockchain mt\\nprotecting your against and v\\nthis cute is a s ultimate nemesis\\ncool or creepy this is judging you\\nintroducing earth 2018\\n7 ways is transforming\\nstate of penetration of in the\\nin 4 years your will translate your to text\\nflying trains two words we never thought wed hear together\\nmoves to give social scores to reward or punish citizens ht\\nreadies to your brain ht\\nwhat are some interesting paths in mt\\nthe 7 levels of the internet of things infographic\\nwhat exactly are blockchains\\nwhat are some federal usecases with\\nupdated technology timeline to 2020\\nis this the sports of the mt\\nthe future of control centers mt\\ncontrol everything with one hand\\nthis startup wants to digitize your brainv ht\\nwhat are the basic concepts of a\\nexecuting digital transformation study key findings\\nhow smart is your city\\nwhat are some usecases\\n40 key and to drive the future\\ncheck out this infrared vein finder mt\\nfirst based eyetracking device\\njust a guy in brazil dropping something v\\nthis startup wants to digitize your brainv ht\\ncontrol everything with one hand\\nwho needs a car when you can use this suit instead\\njust a that can do parkour\\nprogrammable materials make their way into future applications ht\\nthe weather of a near future via\\nwho wants to stay in a hotel ht\\njust a guy in brazil dropping something v\\nfirst based eyetracking device\\nlanguage learning in\\ncheck out this infrared vein finder mt\\nepisode two digital unleashed w\\n6 digital trends spearheading business transformation in 2019\\ndo we ever really take time off any more\\n5 key trends in hcm facing enterprise organizations in 2019\\nhow to establish a thriving it innovation hub\\nthe bots of the future are going to use our own metadata to seem more human\\nartificial intelligence and creativity for a new world of work\\nworried about your culture look at your ceos habits\\nhow goals and objectives damage business performance\\n4 steps for getting your ceo on board with driving real culture change\\ngeneration z rules of engagement\\nthe case for a fivehour working day\\n7 socialmedia trends to prepare for in 2019\\nretirementproof your company\\n2018 manufacturing skills gap study\\nthe impact of artificial intelligence on the world economy\\nmanufacturing skills gap to worsen over next decade study says\\nnew report suggests 21 jobs of the future\\ncompanies are upskilling workers in response to job automation\\nhow is artificial intelligence changing the workplace\\nthe skills youll need for the future of work according to the world economic forum\\nhow hr is starting to embrace the value of techbased solutions\\n5 ways smart people sabotage their success\\nan easy way to make more ambitious decisions\\nencourage employees to learn by sharing your own growth\\nwhy its easier to make decisions for someone else\\nhacking the mind just got easier with these new tools\\nartificial intelligence what is reinforcement learning a simple explanation practical examples\\novernight success now requires a little more time\\ndata science and robotics the next big area of study\\nfixing the talent shortage drop the college degree requirement\\nmachine learning an introduction towards data science\\n6 business intelligence trends to watch for in 2019\\nhow to be more mindful at work\\nshould you build or buy ai\\nhow hybrid multicloud and community clouds are coming together for the best of all worlds\\nwhy the best leaders bypass their gatekeepers and go straight to the source\\nwant better answers from your team ask questions first\\nthe elements of problem solving that make teams indestructible\\nwhen acquiring a company dont forget about the people\\nthat thinking feeling innovation matters\\n50 examples of how blockchains are taking over the world\\nthe three key challenges that can trip up your design thinking success\\nwhat motivates your parttime employees\\nmit researchers show how to detect and address ai bias without loss in accuracy\\nhow managers can curb overconfidence\\n10 proven ways good leaders build trust with their employees infographic\\nwhy the best companies develop leaders at every level\\nthe promise of practically serverless computing\\nthe 4hour workday is not a crazy idea\\nproductivity woes why giving staff an extra day off can be the answer\\n13 surprising uses for emotion ai technology\\nquantum computing not ai will define our future\\ndesigning ai for people\\nhow is artificial intelligence changing the workplace\\ndo new technologies make the world better or worse\\nteaching robots body language offers common ground for humans and machines\\ngermany plans 3 billion in ai investment government paper\\nin an ai future our main job will be to relearn unlearn and keep on learning\\ndont fear the rise of the robots it is already here\\nwhy swedens cashless society is no longer a utopia\\nthe power of listening in helping people change\\nis your company ready for a digital future\\nhow do we tackle unconscious bias through conversation and action\\nuks first doctor of social media calls for global standards on social data mobile marketing magazine\\nwhat data scientists really do according to 35 data scientists\\nnew ways to gauge talent and potential\\nwhat a quantum computer is and why it needs to be more\\ncloudbased quantum computing inches slowly toward enterprise\\nwhat is a bot\\nchatbot building blocks\\nmay ai help you\\ndriving diversity and inclusion requires cracking the code on sponsorship\\n87 of your employees are disengaged heres how to fix it\\nmentoring is an overlooked saviour for diversity and the talent gap\\ndigital strategy the four fights you have to win\\nhow universities should teach blockchain\\nbots or robots the two forms of software robotics\\nheres what a manufacturing skills gap of more than 2 million people will look like\\nthe jobs are here but where are the people\\nthe skills youll need for the future of work according to the world economic forum\\nhow is artificial intelligence changing the workplace\\nno automation is not a mass jobskiller\\nwill a robot take your job\\nnine ways to foster an environment of learning for your team\\nretirementproof your company\\nrethinking retraining\\ndoes ai really have a place in the modern workplace\\nsuccessfully reinventing your company starts with a digital transformation model\\nsuccessful digital transformation isnt about technology its about people\\ndigital transformation in 2019 ai robotics and iot to play starring roles\\ngartners predictions for the top 10 tech trends in 2019\\n90 of firms already using ai to boost customer experience and increase revenue\\ntraits of highly successful digital leaders\\nthe 3 ways that artificial intelligence will change content marketing\\ndigital transformation whose job is it anyway\\nwhat can we expect to see in the next 5 years gartner hype cycle\\ni have 394 new followers from usa uk spain and more last week see simonlporter\\nthe ultimate guide to starting ai\\nai bias and the people factor in ai development\\nis this ai we drew you a flowchart to work it out\\nais success hinges on new attitudes not old regulations\\nhow does current ai stack up against human intelligence\\nwhy you need to care about explainable machine learning\\ndesigning ai for people\\nexplainable ai wont deliver heres why\\ndoing better at your service with aiasaservice\\nhow data analytics has changed or not over the last 30 years\\nhow millennials should view the world of data science\\nsuccessfully reinventing your company starts with a digital transformation model\\nscaling digital across the enterprise the key imperatives\\nkey success factors for each phase of digital transformation\\nputting digital transformation in the hands of every employee\\nthe future of things\\nthe key to unlock digital transformation\\nwhat to do when a good employee stops trying to grow\\nforrester makes 5 bold predictions that will impact b2b marketers next year\\nstrategies for retaining diverse hires\\nthe benefits of laughing in the office\\nhrs purporse put people at the heart of the future of work\\nbots or robots the two forms of software robotics\\nfive tech tools to encourage inclusion in the workplace\\n7 factors to help ensure digital workplace success\\neq not iq makes great leaders\\nretail ai boom ahead as 93 of retailers plan to implement ai by 2020\\nhow to build a resilient company culture in challenging times\\nai is not magic dust for your company says googles cloud ai boss\\nwhy employees dont utilize company benefits and how hr can help\\n3 ways to upgrade our humanware\\nthis chemical company uses humility to drive digital transformation\\nhow to turn a weak no into a powerful yes\\nhow to leave a job you love\\ndata analytics examples an inside look at 10 success stories\\nai and automation 2019 predictions from\\na guiding framework for digital transformation\\nwant digital transformation encourage continuous learning for all employees\\nworried workers korn ferry survey finds professionals are more stressed out at work today than 5 years ago\\ndigitalization is not so much about technology it is all about the people\\nwhy the world needs deep generalists not specialists\\nculture is the new currency and other insights from people leaders\\nis the top job up for grabs you better have a succession plan\\nhow ai is revolutionizing digital marketing\\nwho is going to make money with artificial intelligence\\ncompeting in the ai economy an interview with mits andrew mcafee\\nthe evolving role of leaders\\n7 socialmedia trends to prepare for in 2019\\nthe future of work is essentially here advice for embracing the change\\nthree reasons people distrust hr and what hr can do about it\\n4 roles hr must play to architect futurefluent culture\\nare you a transactional or transformational leader\\nworkforce shaping in the age of automation\\nhrs purporse put people at the heart of the future of work\\nhow to deal with tough people at work according to a stanford professor\\nhow to make 360degree feedback a great experience\\nthe power of mentoring\\na ship without informal leaders on board is a sinking ship\\nhow to help your employees learn from each other\\nbots or robots the two forms of software robotics\\ntop 10 blockchain adoption challenges 101 blockchains\\n5 simple steps for line managers to achieve employee engagement\\nbusinesses will scale back on ai in 2019\\nhow is talent acquisition evolving for the future workforce\\nhow to make your 2019 hr plan hr trend institute\\nseven human resource competencies that drive company success\\n4 roles hr must play to architect futurefluent culture\\nthree reasons people distrust hr and what hr can do about it\\nthe best hr is invisible\\n10 stats about remote work\\neq not iq makes great leaders\\nhow our careers affect our children\\n8 bad mistakes that make good employees leave\\n5 expert predictions on the future of work and what leaders can do to prepare\\nhow to build a resilient company culture in challenging times\\nthe case for behavioral strategy via\\n90 of firms already using ai to boost customer experience and increase revenue\\nwho is going to make money with artificial intelligence\\nai wrenching jobs away from humans not quite survey reveals\\nforresters 2019 ai predictions include pragmatic ai\\nai adoption advances but foundational barriers remain\\nhow ai is revolutionizing digital marketing\\nhow automation is changing data science and machine learning\\nai is not magic dust for your company says googles cloud ai boss\\nif everybody is adopting ai wheres the advantage\\nis artificial intelligence the future of business\\nhow banks can lead the shift to aifirst mit sloan management review\\nare you a transactional or transformational leader\\n10 stats about remote work\\nis the top job up for grabs you better have a succession plan\\nfocus on leadership talent development to improve operating exit outcomes\\ngartner lists top 10 tech trends for 2019\\nrun meetings that are fair to introverts women and remote workers\\nmost of these 9 ways to keep your best employees dont cost anything\\nwhy employees dont utilize company benefits and how hr can help\\nbreaking the talent bottleneck\\nuk firms ready to microchip thousands of employees\\nfocus on these five elements of your office to create healthier employees\\nyou stand to lose half your top talent heres how to stop those people from leaving\\nwant digital transformation encourage continuous learning for all employees\\nthe research weve ignored about happiness at work\\ndemystifying artificial intelligence explained in one picture\\nai and automation 2019 predictions from forrestergaggleamputmcampaignexternal20gaggleamputmcontenthttpsxeroxbz2aspggn1660116\\nsecuring talent in uncertain times\\nupgrade2success con sap successfactors milano nga hr\\ndigitalization is not so much about technology it is all about the people\\nartificial intelligence era requires new approaches to create ai talent\\nthe rise of the millennial and why theyre changing work for the better\\ndigital transformation is not about technologyits about change\\nculture is the new currency and other insights from people leaders\\nfive signs of a successful learning culture\\nis the top job up for grabs you better have a succession plan\\n3 ways to upgrade our humanware\\nwhy the world needs deep generalists not specialists\\n9 ways to incorporate analytics into your organisation\\nare you providing sufficient digital leadership\\ndigitalization is not so much about technology it is all about the people\\nartificial intelligence whats the difference between deep learning and reinforcement learning\\nhow to use employee advocacy to create powerful brand influencers\\nrethinking privacy in the age of ai policy\\nthis chemical company uses humility to drive digital transformation\\nworried workers korn ferry survey finds professionals are more stressed out at work today than 5 years ago\\nthe gig economy is growing but where is it headed\\nshould you include freelancers in your talent development program\\nhow to be the company people want to work for\\n37m have joined the freelancer workforce in the last 5 years\\n4 most commonly asked questions about cloud erp\\ntop 25 digital transformation blogs and websites on the web\\nwant digital transformation encourage continuous learning for all employees\\na guiding framework for digital transformation\\n14 smart strategies to prepare your company for an aging workforce\\nai and automation 2019 predictions from\\nif your innovation effort isnt working look at whos on the team\\nthe bestperforming ceos in the world 2018\\nnew technology new rules reimagining the modern finance workforce via\\na guide to corporate innovation 19 strategies to drive innovation now\\nopenplan offices make workers less collaborative harvard study finds\\nartificial intelligence whats the difference between deep learning and reinforcement learning\\ntop 25 digital transformation blogs and websites on the web\\nif everybody is adopting ai wheres the advantage\\ndigitalization is not so much about technology it is all about the people\\ndeloitte pervasive ai promises to transform agriculture health care and manufacturing\\nwant digital transformation encourage continuous learning for all employees\\nhow the most successful innovators bring their ideas to life\\nhelp your team do more without burning out\\n10 stats about remote work\\nhow automation is changing data science and machine learning\\nare you providing sufficient digital leadership\\nuk companies rebuked over lack of senior women appointments\\nthe intelligent enterprise where data doesnt collect dust\\ndigital transformation how to differentiate and create competitive advantage in the digital era\\n9 ways to incorporate analytics into your organisation\\ntech firms try to address the risks the ai race poses for research\\nthere are 4 innovation personalities which 1 are you\\nwhy the world needs deep generalists not specialists\\n3 ways to upgrade our humanware\\nthe role of a manager has to change in 5 key ways\\nis the top job up for grabs you better have a succession plan\\n10 ways disruption in the workplace turns into dysfunction\\nhow artificial intelligence can make us better at being human\\nsap buys qualtrics for 8 billion in cash days before planned ipo\\nfrom the iot evolution to the revolution of the cognitive age\\nis anyone home a way to find out if ai has become selfaware\\nfive signs of a successful learning culture\\nculture is the new currency and other insights from people leaders\\nthese 4 myths about the skills gap will hold your company back\\nwhat is ai we drew you a flowchart to work it out\\nthe fundamentals of leadership still havent changed\\ndigital transformation is not about technologyits about change\\n3 smart investments to help you retain millennial employees\\nthe rise of the millennial and why theyre changing work for the better\\nthe working world is changing thanks to freelancers\\nshould you include freelancers in your talent development program\\nthe state of iot intelligence 2018\\nthe nextgeneration operating model for the digital world\\nleaders of the future will need these 5 skills\\n10 design thinking myths debunked\\nbeing a corporate entrepreneur the good the bad and the promising\\nartificial intelligence era requires new approaches to create ai talent\\nskills gap fallout lands with hr\\nhelp your team do more without burning out\\na new paradigm for hr dilemmas in employing and managing the resourceful human\\nwhy we need to rethink organizational change management\\nhow the most successful innovators bring their ideas to life\\nartificial intelligence whats the difference between deep learning and reinforcement learning\\nwant digital transformation encourage continuous learning for all employees\\nhow to maintain your relationships as you grow your network\\ngen z ai how polymaths will win the future\\ntop 25 digital transformation blogs and websites on the web\\ndeloitte pervasive ai promises to transform agriculture health care and manufacturing\\ndigital transformation how to differentiate and create competitive advantage in the digital era\\nthrowing yourself completely into work can pay off but ceos and professors alike say theres a hidden danger in feeling too attached to your job\\nai in the context of digital transformation\\ndigitalization is not so much about technology it is all about the people\\nmap your journey to the successes of uniper thyssenkyrupt solvay amrest\\ncio strategies for ai business success\\n3 smart investments to help you retain millennial employees\\nai changes the rules and results for automation\\nthe 5 truths behind fears about ai for ceos\\nif everybody is adopting ai wheres the advantage\\nhow to do a reorganization the right way\\ndigging deeper into ai why scratching the surface isnt enough\\nai and automation 2019 predictions from\\nhow ai will transform the future of business\\nhow the circular economy unlocks new revenue streams\\nany surprise it leaders prefer cloud to onpremise\\n7 new insights on todays talent acquisition\\na guide to corporate innovation 19 strategies to drive innovation now\\nwhen the data says youre wrong and what to do about it\\nyour boss is now more likely to train you up thanks to a dwindling talent pool\\ndigital transformation in 2019 lessons learned the hard way\\nhow to be an hr partner not just a paper pusher\\ndigitalization is not so much about technology it is all about the people\\ntop 25 digital transformation blogs and websites on the web\\n10 ceos on the best ways to get people to like you\\nartificial intelligence whats the difference between deep learning and reinforcement learning\\nmodern business is fasthr innovation needs to keep pace\\nai a key factor between success and failure study suggests\\nemployees feel left behind with\\nhow one company is redefining what the modern workplace looks like\\nopenplan offices make workers less collaborative harvard study finds\\nall manner of manners etiquette training for a new generation\\nthe 4 biggest benefits of immersing your corporation in the startup world\\nwhy startup thinking can benefit large enterprises\\na guide to corporate innovation 19 strategies to drive innovation now\\nnew technology new rules reimagining the modern finance workforce via\\nartificial intelligence era requires new approaches to create ai talent\\nskills gap fallout lands with hr\\ndont do digital transformation alone a checklist for building successful and dynamic technology partnerships\\nhelp your team do more without burning out\\n4 innovation insights from lyfts chief operating officer\\nthe bestperforming ceos in the world 2018\\nthe deadly 7 why so many it transformations fail\\na new paradigm for hr dilemmas in employing and managing the resourceful human\\nemotional skill is key to success\\nleader decisions part 3 how to build leadership decisionmaking skills\\nwhy we need to rethink organizational change management\\nif your innovation effort isnt working look at whos on the team\\n7 ways to encourage innovation in the workplace\\nthe eight types of ai you should know about\\nwant lessbiased decisions use algorithms\\nthe top 10 strategic technology trends for 2019 according to gartner\\ncant measure culture here are 9 ways to quantify your culture\\nemployees feel left behind with\\n10 mustfollow future of work thought leaders\\n14 smart strategies to prepare your company for an aging workforce\\nheres how to stay one big step ahead of your changing talent pool\\nhow the most successful innovators bring their ideas to life\\n7 ways to encourage innovation in the workplace\\nai a key factor between success and failure study suggests\\ndigging deeper into ai why scratching the surface isnt enough\\na guiding framework for digital transformation\\n50 awesome podcasts for hr professionals wonolo\\nmodern business is fasthr innovation needs to keep pace\\nartificial intelligence whats the difference between deep learning and reinforcement learning\\nwomen in the workplace 2018\\n8 bad mistakes that make good employees leave\\ndont make your cloud migration a house of cards\\nwant digital transformation encourage continuous learning for all employees\\none communication tool you should add to your toolkit\\ni have 325 new followers from france south africa finland and more last week see simonlporter\\n10 ceos on the best ways to get people to like you\\nhow to maintain your relationships as you grow your network\\nhow to build real relationships in the virtual world\\nhow diverse leadership teams boost innovation\\ngen z ai how polymaths will win the future\\ntop 25 digital transformation blogs and websites on the web\\ndeloitte pervasive ai promises to transform agriculture health care and manufacturing\\nai and automation 2019 predictions from\\nwhy new approaches to ld are presenting fresh problems\\ndigging deeper into ai why scratching the surface isnt enough\\ndigital transformation how to differentiate and create competitive advantage in the digital era\\ntop 10 roles in ai and data science\\npeople must adapt their skills to thrive with ai\\n15 hr analytics case studies with business impact analytics in hr\\nai in the context of digital transformation\\ndigitalization is not so much about technology it is all about the people\\nmap your journey to the successes of uniper thyssenkyrupt solvay amrest\\n7 habits of highly effective digital transformations\\nhow to be an hr partner not just a paper pusher\\nits all about business model innovation not new technology\\nchange your leaders to change your culture\\nchart how the worlds biggest companies have changed in 10 years\\n10 predictions for how the tech industry will change in 2019 and beyond\\nthe 2018 executives guide to chatbots part 1 chatbots beyond the hype\\n7 digital trends to reduce administrative hr services\\nfive steps for getting started with ai in your business\\nseven forwardthinking leadership attributes your organization needs today\\nwant digital transformation encourage continuous learning for all employees\\nops 40the human factor the power of the digital capability center via\\nemployees feel left behind with\\nforresters 2019 ai predictions include pragmatic ai\\neurope leads the way when it comes to digital transformation\\n8 bad mistakes that make good employees leave\\nthe digital workforce experience the shift from hr tools to employee tools\\nworkplace agility the true secret to improving productivity and efficiency\\ncant measure culture here are 9 ways to quantify your culture\\nonly one in ten have the talent to manage\\n15 mistakes successful leaders know to avoid\\nusing digital communication to drive digital change\\nai a key factor between success and failure study suggests\\nwomen in the workplace 2018\\na guiding framework for digital transformation\\ntime management isnt the problem our attention span is\\nhow will we keep people not machines at the center of the future of work\\nartificial intelligence whats the difference between deep learning and reinforcement learning\\npeople the real enabler of business growth\\ntop 10 roles in ai and data science\\nai and automation 2019 predictions from forrester\\nemployee engagement 10 best practices for improving your culture\\ntop 10 digital transformation trends for 2019\\nthe eight types of ai you should know about\\nthe four cs of digital transformation and where to start\\n7 ways to encourage innovation in the workplace\\ncloud vendors on the rise in 2019\\n10 mustfollow future of work thought leaders\\nmiserable staff dont make money the firms that have switched to a fourday week\\nmodern business is fasthr innovation needs to keep pace\\nthe top 10 strategic technology trends for 2019 according to gartner\\ndeloitte pervasive ai promises to transform agriculture health care and manufacturing\\nai drives competitive edge with improved products worker creativity\\nwant lessbiased decisions use algorithms\\nfive enterprisearchitecture practices that add value to digital transformations via\\na guiding framework for digital transformation\\n5 reasons why your company doesnt take analytics seriously and 5 ways to change that\\nthe four stages of digital maturity how does your organization rank\\ngartner drops its 5 drivers for digital transformation\\n5 digital transformation trends for 2019\\nthe digital workforce experience the shift from hr tools to employee tools\\nusing digital communication to drive digital change\\ndigging deeper into ai why scratching the surface isnt enough\\ntalent development in the age of digital labour\\nyour boss is now more likely to train you up thanks to a dwindling talent pool\\ntechnology ceos need to redefine talent management to accelerate growth\\nthe future of hr can hr develop the skills needed to survive\\npreparing for the coming skill shifts\\nchart how the worlds biggest companies have changed in 10 years\\n10 predictions for how the tech industry will change in 2019 and beyond\\nai a key factor between success and failure study suggests\\nnearly half of uk firms think their business models wont exist in 5 years due to ai study says\\nfive steps for getting started with ai in your business\\nhow machines understand our language an introduction to natural language processing\\nwant digital transformation encourage continuous learning for all employees\\ntop 10 roles in ai and data science\\n7 ways to encourage innovation in the workplace\\nthe eight types of ai you should know about\\npeople the real enabler of business growth\\nhow the most successful innovators bring their ideas to life\\ngartner top 10 strategic technology trends for 2019\\nwhy robots will never be the reason for unemployment\\nrise of the humans global mobility\\nmodern business is fasthr innovation needs to keep pace\\nplanning a perfect performance management process from start to finish\\nartificial intelligence whats the difference between deep learning and reinforcement learning\\nworklife balance vs worklife integration\\nemployees feel left behind with\\na college professor struggling to be more productive stumbled across the perfect schedule thats the complete opposite of anything hed tried before\\nthe digital workforce experience the shift from hr tools to employee tools\\nmiserable staff dont make money the firms that have switched to a fourday week\\nops 40the human factor the power of the digital capability center via\\nhow to build a talent pipeline to keep your company moving forward\\nheres how to stay one big step ahead of your changing talent pool\\ntalent development trends to watch in the next year\\ntop 10 roles in ai and data science\\ndigital disruption will wipe out 40 of fortune 500 firms in next 10 years say csuite execs\\nwhat the top innovators get right\\n14 smart strategies to prepare your company for an aging workforce\\nwant digital transformation encourage continuous learning for all employees\\nthe stigma of flexible hours\\n10 mustfollow future of work thought leaders\\nwhat is deep learning ai a simple guide with 8 practical examples\\nseven forwardthinking leadership attributes your organization needs today\\ncan a robot learn a language the way a child does\\nhow machines understand our language an introduction to natural language processing\\nthe quirky ways ai researchers gather data to feed their algorithms\\ncloud vendors on the rise in 2019\\nwhy working together is the only way to reap the benefits of ai\\nfive steps for getting started with ai in your business\\nnearly half of uk firms think their business models wont exist in 5 years due to ai study says\\nai a key factor between success and failure study suggests\\nhrs expanding role in the employee experience\\n3 trends to watch in managed cloud and hr\\nthe future of work in the age of ai\\nworkplace agility the true secret to improving productivity and efficiency\\nwant to become more strategic hr leaders should heed this advice\\nwhy hr leaders should care about data management\\nwhy digital transformations fail closing the 900 billion hole in enterprise strategy\\n7 digital trends to reduce administrative hr services\\nconversational experiences building relationships one conversation at a time\\nwhy you should think twice about robotic process automation\\nthe 2018 executives guide to chatbots part 1 chatbots beyond the hype\\nhr and security the new bffs on the block\\n5 top trends in organizational talent learning management\\nchatbots cannot rewrite customer experiences without people\\nleading into the future\\nhow it leaders can plan for the imminent multicloud wave\\n10 predictions for how the tech industry will change in 2019 and beyond\\n6 trends in the gartner hype cycle for human capital management 2018\\n2019 digital transformation trends to keep an eye on\\nchart how the worlds biggest companies have changed in 10 years\\ndigital disruption will wipe out 40 of fortune 500 firms in next 10 years say csuite execs\\ninside the brain of a\\n2018 top influencers by\\ngreat people to follow\\ntop 15\\ntop 5 inventions 20192050\\nautonomous\\ngreat people to follow\\nreadies to your brain ht\\nfirst based eyetracking device\\ngreat people to follow\\nleading are going cc\\nmy sources\\ngreat people to follow\\nanother amazing\\nstate of penetration of in the\\nready or not are coming\\nflying trains two words we never thought wed hear together\\nthese can plant 5000 trees in a day ht\\nin 4 years your will translate your to text\\nmoves to give social scores to reward or punish citizens ht\\nsecurity and privacy in the age of\\nhow to achieve cyber resilience in 7 steps\\nmissed tags\\nestimate to provide 31 trillion of business value by 2030 via\\ngreat people to follow\\na new aircraft can fly forever and its due in 2019 via\\nthe ecosystem\\ntips for implementing iot\\nbravo and all\\nyour next could be an\\nimmersive learning combines ht\\nis this the sports of the mt\\nthe future of control centers mt\\nits a kind of magic\\nupdated technology timeline to 2020\\nthe 7 levels of the internet of things infographic\\nwhat exactly are blockchains\\nwhat are some federal usecases with\\nwhat are some interesting paths in mt\\nthe weather of a near future via\\ncontrol everything with one hand\\nfirst based eyetracking device\\nprogrammable materials make their way into future applications ht\\njust a that can do parkour\\nwho needs a car when you can use this suit instead\\n2018 will mark the beginning of democratization via mt\\nblockchain for the supply chain mt\\nthe global rise of industrial internet of things mt\\nfinance and supply chain in action 2018 mt\\nwhat are the benefits of\\nwhy do you need strategy and transformation infographic via mt\\nquand l se met troller donald pour son aversion la pluie cc\\nare you ready for v\\namazing not really\\nmisperception hashed algorithms creating encrypted outputs and immutable yet still require a continuous audit via\\n5 youll use in 5 years via\\n100 the redefining via cc\\nare you ready for machine intelligence 30 mt\\na construction worker\\nget a look at the worlds largest battery factory\\nthis new monitoring can identify you without seeing your face\\nblockchain 30 transformation examples via\\na in a box ht\\nyour pets new best friend ht\\nthe restaurant mt\\ngreat people to follow\\n7 key shaping and the future of and via\\nmap of computer science via mt\\nthis could produce oxygen for future colonists\\ngreat people to follow\\nthe landscape\\ndata never sleeps 60 infographic mt\\nhow is causing in infographic mt\\n1000 times faster with just 1 of the power via\\namazing work in\\nthis conceptual floating ferry terminal creates all the it would need\\nthe ecosystem infographic mt\\n6 step towards success via\\nthis creates a website by looking at the mt\\nthis gorilla looks the natural one ht\\nwhat components are needed to build a\\nwatch human anatomy with\\n8 combining to be more fueling the legacy via\\nhow can we architect an in 2018 via mt\\nunbelievable bus shelter\\nawesome bottles of wine from in\\ngartners top predictions for 2018 and beyond mt\\n'"
      ]
     },
     "execution_count": 40,
     "metadata": {},
     "output_type": "execute_result"
    }
   ],
   "source": [
    "data"
   ]
  },
  {
   "cell_type": "code",
   "execution_count": 58,
   "metadata": {},
   "outputs": [],
   "source": [
    "def dataset_preparation(data):\n",
    "\n",
    "    # basic cleanup\n",
    "    corpus = data.lower().split(\"\\n\")\n",
    "\n",
    "    # tokenization\n",
    "    tokenizer.fit_on_texts(corpus)\n",
    "    total_words = len(tokenizer.word_index) + 1\n",
    "\n",
    "    # create input sequences using list of tokens\n",
    "    input_sequences = []\n",
    "    for line in corpus:\n",
    "      token_list = tokenizer.texts_to_sequences([line])[0]\n",
    "      for i in range(1, len(token_list)):\n",
    "        n_gram_sequence = token_list[:i+1]\n",
    "        input_sequences.append(n_gram_sequence)\n",
    "\n",
    "    # pad sequences\n",
    "    max_sequence_len = max([len(x) for x in input_sequences])\n",
    "    input_sequences = np.array(pad_sequences(input_sequences, maxlen=max_sequence_len, padding='pre'))\n",
    "    print(input_sequences)\n",
    "\n",
    "    # create predictors and label\n",
    "    predictors, label = input_sequences[:,:-1],input_sequences[:,-1]\n",
    "    label = ku.to_categorical(label, num_classes=total_words)\n",
    "\n",
    "    return predictors, label, max_sequence_len, total_words"
   ]
  },
  {
   "cell_type": "code",
   "execution_count": 46,
   "metadata": {},
   "outputs": [],
   "source": [
    "epochs      = 300\n",
    "dropout     = 0.1\n",
    "l2_reg      = 1e-4\n",
    "batch_sz    = 64\n",
    "learn_rate  = 1e-3\n",
    "beta_1      = 0.9\n",
    "beta_2      = 0.999\n",
    "epsilon     = None\n",
    "decay_rate  = 0\n",
    "amsgrad     = False\n",
    "run_model   = True"
   ]
  },
  {
   "cell_type": "code",
   "execution_count": 47,
   "metadata": {},
   "outputs": [],
   "source": [
    "def create_model(predictors, label, max_sequence_len, total_words):\n",
    "    model = Sequential()\n",
    "    model.add(Embedding(total_words, 500, input_length = max_sequence_len-1))\n",
    "    model.add(LSTM(512, return_sequences = True))\n",
    "    if dropout != 0:\n",
    "        model.add(Dropout(dropout))\n",
    "        model.add(LSTM(256))\n",
    "    else:\n",
    "        model.add(LSTM(256))\n",
    "    if l2_reg != 0:\n",
    "        model.add(Dense(total_words, activation = 'softmax', bias_regularizer = l2(l2_reg)))\n",
    "    else:\n",
    "        model.add(Dense(total_words, activation = 'softmax'))\n",
    "    \n",
    "    model.compile(loss = 'categorical_crossentropy', optimizer = 'adam', metrics=['accuracy'])\n",
    "    checkpointer = ModelCheckpoint(filepath='model'\n",
    "                                   + '/single-user-model-{epoch:02d}.hdf5', verbose = 1)\n",
    "    tensorboard = TensorBoard(log_dir = 'tb-logs/{}'.format(time()))\n",
    "    earlystop = EarlyStopping(monitor='loss', min_delta=0, patience=50, verbose=0, mode='min')\n",
    "    return(model, checkpointer, tensorboard, earlystop)"
   ]
  },
  {
   "cell_type": "code",
   "execution_count": 48,
   "metadata": {},
   "outputs": [],
   "source": [
    "def generate_text(seed_text, next_words, max_sequence_len):\n",
    "    for _ in range(next_words):\n",
    "      token_list = tokenizer.texts_to_sequences([seed_text])[0]\n",
    "      token_list = pad_sequences([token_list], maxlen=max_sequence_len-1, padding='pre')\n",
    "      predicted = model.predict_classes(token_list, verbose=0)\n",
    "\n",
    "      output_word = \"\"\n",
    "      for word, index in tokenizer.word_index.items():\n",
    "        if index == predicted:\n",
    "          output_word = word\n",
    "          break\n",
    "      seed_text += \" \" + output_word\n",
    "    return seed_text"
   ]
  },
  {
   "cell_type": "code",
   "execution_count": 55,
   "metadata": {},
   "outputs": [
    {
     "data": {
      "text/plain": [
       "(array([[  0,   0,   0, ...,   0,   0,  26],\n",
       "        [  0,   0,   0, ...,   0,  26, 647],\n",
       "        [  0,   0,   0, ...,  26, 647,   9],\n",
       "        ...,\n",
       "        [  0,   0,   0, ...,  70,   8,  60],\n",
       "        [  0,   0,   0, ...,   8,  60,   6],\n",
       "        [  0,   0,   0, ...,  60,   6, 173]], dtype=int32),\n",
       " array([[0., 0., 0., ..., 0., 0., 0.],\n",
       "        [0., 0., 0., ..., 0., 0., 0.],\n",
       "        [0., 0., 0., ..., 0., 0., 0.],\n",
       "        ...,\n",
       "        [0., 0., 0., ..., 0., 0., 0.],\n",
       "        [0., 0., 0., ..., 0., 0., 0.],\n",
       "        [0., 0., 0., ..., 0., 0., 0.]], dtype=float32),\n",
       " 25,\n",
       " 1223)"
      ]
     },
     "execution_count": 55,
     "metadata": {},
     "output_type": "execute_result"
    }
   ],
   "source": [
    "predictors, label, max_sequence_len, total_words"
   ]
  },
  {
   "cell_type": "code",
   "execution_count": 59,
   "metadata": {},
   "outputs": [
    {
     "name": "stdout",
     "output_type": "stream",
     "text": [
      "[[  0   0   0 ...   0  26 647]\n",
      " [  0   0   0 ...  26 647   9]\n",
      " [  0   0   0 ... 647   9 648]\n",
      " ...\n",
      " [  0   0   0 ...   8  60   6]\n",
      " [  0   0   0 ...  60   6 173]\n",
      " [  0   0   0 ...   6 173  31]]\n",
      "_________________________________________________________________\n",
      "Layer (type)                 Output Shape              Param #   \n",
      "=================================================================\n",
      "embedding_10 (Embedding)     (None, 24, 500)           611500    \n",
      "_________________________________________________________________\n",
      "lstm_19 (LSTM)               (None, 24, 512)           2074624   \n",
      "_________________________________________________________________\n",
      "dropout_10 (Dropout)         (None, 24, 512)           0         \n",
      "_________________________________________________________________\n",
      "lstm_20 (LSTM)               (None, 256)               787456    \n",
      "_________________________________________________________________\n",
      "dense_10 (Dense)             (None, 1223)              314311    \n",
      "=================================================================\n",
      "Total params: 3,787,891\n",
      "Trainable params: 3,787,891\n",
      "Non-trainable params: 0\n",
      "_________________________________________________________________\n"
     ]
    }
   ],
   "source": [
    "predictors, label, max_sequence_len, total_words = dataset_preparation(data)\n",
    "model, checkpointer, tensorboard, earlystop = create_model(predictors, label, max_sequence_len, total_words)\n",
    "model.summary()"
   ]
  },
  {
   "cell_type": "code",
   "execution_count": 50,
   "metadata": {},
   "outputs": [
    {
     "name": "stdout",
     "output_type": "stream",
     "text": [
      "Epoch 1/300\n",
      "4868/4868 [==============================] - 11s 2ms/step - loss: 6.4501 - acc: 0.0411\n",
      "\n",
      "Epoch 00001: saving model to model/single-user-model-01.hdf5\n",
      "Epoch 2/300\n",
      "4868/4868 [==============================] - 10s 2ms/step - loss: 6.1146 - acc: 0.0413\n",
      "\n",
      "Epoch 00002: saving model to model/single-user-model-02.hdf5\n",
      "Epoch 3/300\n",
      "4868/4868 [==============================] - 10s 2ms/step - loss: 6.0953 - acc: 0.0421: 0s - loss: 6.0793 -\n",
      "\n",
      "Epoch 00003: saving model to model/single-user-model-03.hdf5\n",
      "Epoch 4/300\n",
      "4868/4868 [==============================] - 10s 2ms/step - loss: 6.0949 - acc: 0.0427\n",
      "\n",
      "Epoch 00004: saving model to model/single-user-model-04.hdf5\n",
      "Epoch 5/300\n",
      "4868/4868 [==============================] - 11s 2ms/step - loss: 6.0907 - acc: 0.0413\n",
      "\n",
      "Epoch 00005: saving model to model/single-user-model-05.hdf5\n",
      "Epoch 6/300\n",
      "4868/4868 [==============================] - 16s 3ms/step - loss: 6.0944 - acc: 0.0444\n",
      "\n",
      "Epoch 00006: saving model to model/single-user-model-06.hdf5\n",
      "Epoch 7/300\n",
      "4868/4868 [==============================] - 22s 5ms/step - loss: 6.0903 - acc: 0.0446\n",
      "\n",
      "Epoch 00007: saving model to model/single-user-model-07.hdf5\n",
      "Epoch 8/300\n",
      "4868/4868 [==============================] - 13s 3ms/step - loss: 6.0892 - acc: 0.0440\n",
      "\n",
      "Epoch 00008: saving model to model/single-user-model-08.hdf5\n",
      "Epoch 9/300\n",
      "4868/4868 [==============================] - 11s 2ms/step - loss: 6.0916 - acc: 0.0462\n",
      "\n",
      "Epoch 00009: saving model to model/single-user-model-09.hdf5\n",
      "Epoch 10/300\n",
      "4868/4868 [==============================] - 11s 2ms/step - loss: 6.0912 - acc: 0.0460\n",
      "\n",
      "Epoch 00010: saving model to model/single-user-model-10.hdf5\n",
      "Epoch 11/300\n",
      "4868/4868 [==============================] - 11s 2ms/step - loss: 6.0923 - acc: 0.0407\n",
      "\n",
      "Epoch 00011: saving model to model/single-user-model-11.hdf5\n",
      "Epoch 12/300\n",
      "4868/4868 [==============================] - 11s 2ms/step - loss: 6.0903 - acc: 0.0411\n",
      "\n",
      "Epoch 00012: saving model to model/single-user-model-12.hdf5\n",
      "Epoch 13/300\n",
      "4868/4868 [==============================] - 11s 2ms/step - loss: 6.0905 - acc: 0.0405\n",
      "\n",
      "Epoch 00013: saving model to model/single-user-model-13.hdf5\n",
      "Epoch 14/300\n",
      "4868/4868 [==============================] - 11s 2ms/step - loss: 6.0920 - acc: 0.0454\n",
      "\n",
      "Epoch 00014: saving model to model/single-user-model-14.hdf5\n",
      "Epoch 15/300\n",
      "4868/4868 [==============================] - 11s 2ms/step - loss: 6.0940 - acc: 0.0419\n",
      "\n",
      "Epoch 00015: saving model to model/single-user-model-15.hdf5\n",
      "Epoch 16/300\n",
      "4868/4868 [==============================] - 11s 2ms/step - loss: 6.0901 - acc: 0.0409\n",
      "\n",
      "Epoch 00016: saving model to model/single-user-model-16.hdf5\n",
      "Epoch 17/300\n",
      "4868/4868 [==============================] - 12s 2ms/step - loss: 6.0922 - acc: 0.0460\n",
      "\n",
      "Epoch 00017: saving model to model/single-user-model-17.hdf5\n",
      "Epoch 18/300\n",
      "4868/4868 [==============================] - 11s 2ms/step - loss: 6.0889 - acc: 0.0405\n",
      "\n",
      "Epoch 00018: saving model to model/single-user-model-18.hdf5\n",
      "Epoch 19/300\n",
      "4868/4868 [==============================] - 12s 2ms/step - loss: 6.0912 - acc: 0.0458\n",
      "\n",
      "Epoch 00019: saving model to model/single-user-model-19.hdf5\n",
      "Epoch 20/300\n",
      "4868/4868 [==============================] - 12s 2ms/step - loss: 6.0896 - acc: 0.0446\n",
      "\n",
      "Epoch 00020: saving model to model/single-user-model-20.hdf5\n",
      "Epoch 21/300\n",
      "4868/4868 [==============================] - 12s 2ms/step - loss: 6.0908 - acc: 0.0450\n",
      "\n",
      "Epoch 00021: saving model to model/single-user-model-21.hdf5\n",
      "Epoch 22/300\n",
      "4868/4868 [==============================] - 12s 2ms/step - loss: 6.0931 - acc: 0.0444\n",
      "\n",
      "Epoch 00022: saving model to model/single-user-model-22.hdf5\n",
      "Epoch 23/300\n",
      "4868/4868 [==============================] - 12s 2ms/step - loss: 6.0939 - acc: 0.0423\n",
      "\n",
      "Epoch 00023: saving model to model/single-user-model-23.hdf5\n",
      "Epoch 24/300\n",
      "4868/4868 [==============================] - 12s 3ms/step - loss: 6.0914 - acc: 0.0401\n",
      "\n",
      "Epoch 00024: saving model to model/single-user-model-24.hdf5\n",
      "Epoch 25/300\n",
      "4868/4868 [==============================] - 13s 3ms/step - loss: 6.0892 - acc: 0.0440\n",
      "\n",
      "Epoch 00025: saving model to model/single-user-model-25.hdf5\n",
      "Epoch 26/300\n",
      "4868/4868 [==============================] - 12s 3ms/step - loss: 6.0910 - acc: 0.0407\n",
      "\n",
      "Epoch 00026: saving model to model/single-user-model-26.hdf5\n",
      "Epoch 27/300\n",
      "4868/4868 [==============================] - 12s 2ms/step - loss: 6.0906 - acc: 0.0444\n",
      "\n",
      "Epoch 00027: saving model to model/single-user-model-27.hdf5\n",
      "Epoch 28/300\n",
      "4868/4868 [==============================] - 13s 3ms/step - loss: 6.0899 - acc: 0.0452\n",
      "\n",
      "Epoch 00028: saving model to model/single-user-model-28.hdf5\n",
      "Epoch 29/300\n"
     ]
    },
    {
     "ename": "KeyboardInterrupt",
     "evalue": "",
     "output_type": "error",
     "traceback": [
      "\u001b[0;31m---------------------------------------------------------------------------\u001b[0m",
      "\u001b[0;31mKeyboardInterrupt\u001b[0m                         Traceback (most recent call last)",
      "\u001b[0;32m<ipython-input-50-63f101ad7b04>\u001b[0m in \u001b[0;36m<module>\u001b[0;34m()\u001b[0m\n\u001b[0;32m----> 1\u001b[0;31m \u001b[0mmodel\u001b[0m\u001b[0;34m.\u001b[0m\u001b[0mfit\u001b[0m\u001b[0;34m(\u001b[0m\u001b[0mpredictors\u001b[0m\u001b[0;34m,\u001b[0m \u001b[0mlabel\u001b[0m\u001b[0;34m,\u001b[0m \u001b[0mepochs\u001b[0m\u001b[0;34m=\u001b[0m\u001b[0;36m300\u001b[0m\u001b[0;34m,\u001b[0m \u001b[0mverbose\u001b[0m\u001b[0;34m=\u001b[0m\u001b[0;36m1\u001b[0m\u001b[0;34m,\u001b[0m \u001b[0mcallbacks\u001b[0m\u001b[0;34m=\u001b[0m\u001b[0;34m[\u001b[0m\u001b[0mearlystop\u001b[0m\u001b[0;34m,\u001b[0m \u001b[0mcheckpointer\u001b[0m\u001b[0;34m,\u001b[0m \u001b[0mtensorboard\u001b[0m\u001b[0;34m]\u001b[0m\u001b[0;34m)\u001b[0m\u001b[0;34m\u001b[0m\u001b[0;34m\u001b[0m\u001b[0m\n\u001b[0m",
      "\u001b[0;32m~/venvs/cs231n/lib/python3.6/site-packages/keras/engine/training.py\u001b[0m in \u001b[0;36mfit\u001b[0;34m(self, x, y, batch_size, epochs, verbose, callbacks, validation_split, validation_data, shuffle, class_weight, sample_weight, initial_epoch, steps_per_epoch, validation_steps, **kwargs)\u001b[0m\n\u001b[1;32m   1037\u001b[0m                                         \u001b[0minitial_epoch\u001b[0m\u001b[0;34m=\u001b[0m\u001b[0minitial_epoch\u001b[0m\u001b[0;34m,\u001b[0m\u001b[0;34m\u001b[0m\u001b[0;34m\u001b[0m\u001b[0m\n\u001b[1;32m   1038\u001b[0m                                         \u001b[0msteps_per_epoch\u001b[0m\u001b[0;34m=\u001b[0m\u001b[0msteps_per_epoch\u001b[0m\u001b[0;34m,\u001b[0m\u001b[0;34m\u001b[0m\u001b[0;34m\u001b[0m\u001b[0m\n\u001b[0;32m-> 1039\u001b[0;31m                                         validation_steps=validation_steps)\n\u001b[0m\u001b[1;32m   1040\u001b[0m \u001b[0;34m\u001b[0m\u001b[0m\n\u001b[1;32m   1041\u001b[0m     def evaluate(self, x=None, y=None,\n",
      "\u001b[0;32m~/venvs/cs231n/lib/python3.6/site-packages/keras/engine/training_arrays.py\u001b[0m in \u001b[0;36mfit_loop\u001b[0;34m(model, f, ins, out_labels, batch_size, epochs, verbose, callbacks, val_f, val_ins, shuffle, callback_metrics, initial_epoch, steps_per_epoch, validation_steps)\u001b[0m\n\u001b[1;32m    197\u001b[0m                     \u001b[0mins_batch\u001b[0m\u001b[0;34m[\u001b[0m\u001b[0mi\u001b[0m\u001b[0;34m]\u001b[0m \u001b[0;34m=\u001b[0m \u001b[0mins_batch\u001b[0m\u001b[0;34m[\u001b[0m\u001b[0mi\u001b[0m\u001b[0;34m]\u001b[0m\u001b[0;34m.\u001b[0m\u001b[0mtoarray\u001b[0m\u001b[0;34m(\u001b[0m\u001b[0;34m)\u001b[0m\u001b[0;34m\u001b[0m\u001b[0;34m\u001b[0m\u001b[0m\n\u001b[1;32m    198\u001b[0m \u001b[0;34m\u001b[0m\u001b[0m\n\u001b[0;32m--> 199\u001b[0;31m                 \u001b[0mouts\u001b[0m \u001b[0;34m=\u001b[0m \u001b[0mf\u001b[0m\u001b[0;34m(\u001b[0m\u001b[0mins_batch\u001b[0m\u001b[0;34m)\u001b[0m\u001b[0;34m\u001b[0m\u001b[0;34m\u001b[0m\u001b[0m\n\u001b[0m\u001b[1;32m    200\u001b[0m                 \u001b[0mouts\u001b[0m \u001b[0;34m=\u001b[0m \u001b[0mto_list\u001b[0m\u001b[0;34m(\u001b[0m\u001b[0mouts\u001b[0m\u001b[0;34m)\u001b[0m\u001b[0;34m\u001b[0m\u001b[0;34m\u001b[0m\u001b[0m\n\u001b[1;32m    201\u001b[0m                 \u001b[0;32mfor\u001b[0m \u001b[0ml\u001b[0m\u001b[0;34m,\u001b[0m \u001b[0mo\u001b[0m \u001b[0;32min\u001b[0m \u001b[0mzip\u001b[0m\u001b[0;34m(\u001b[0m\u001b[0mout_labels\u001b[0m\u001b[0;34m,\u001b[0m \u001b[0mouts\u001b[0m\u001b[0;34m)\u001b[0m\u001b[0;34m:\u001b[0m\u001b[0;34m\u001b[0m\u001b[0;34m\u001b[0m\u001b[0m\n",
      "\u001b[0;32m~/venvs/cs231n/lib/python3.6/site-packages/keras/backend/tensorflow_backend.py\u001b[0m in \u001b[0;36m__call__\u001b[0;34m(self, inputs)\u001b[0m\n\u001b[1;32m   2713\u001b[0m                 \u001b[0;32mreturn\u001b[0m \u001b[0mself\u001b[0m\u001b[0;34m.\u001b[0m\u001b[0m_legacy_call\u001b[0m\u001b[0;34m(\u001b[0m\u001b[0minputs\u001b[0m\u001b[0;34m)\u001b[0m\u001b[0;34m\u001b[0m\u001b[0;34m\u001b[0m\u001b[0m\n\u001b[1;32m   2714\u001b[0m \u001b[0;34m\u001b[0m\u001b[0m\n\u001b[0;32m-> 2715\u001b[0;31m             \u001b[0;32mreturn\u001b[0m \u001b[0mself\u001b[0m\u001b[0;34m.\u001b[0m\u001b[0m_call\u001b[0m\u001b[0;34m(\u001b[0m\u001b[0minputs\u001b[0m\u001b[0;34m)\u001b[0m\u001b[0;34m\u001b[0m\u001b[0;34m\u001b[0m\u001b[0m\n\u001b[0m\u001b[1;32m   2716\u001b[0m         \u001b[0;32melse\u001b[0m\u001b[0;34m:\u001b[0m\u001b[0;34m\u001b[0m\u001b[0;34m\u001b[0m\u001b[0m\n\u001b[1;32m   2717\u001b[0m             \u001b[0;32mif\u001b[0m \u001b[0mpy_any\u001b[0m\u001b[0;34m(\u001b[0m\u001b[0mis_tensor\u001b[0m\u001b[0;34m(\u001b[0m\u001b[0mx\u001b[0m\u001b[0;34m)\u001b[0m \u001b[0;32mfor\u001b[0m \u001b[0mx\u001b[0m \u001b[0;32min\u001b[0m \u001b[0minputs\u001b[0m\u001b[0;34m)\u001b[0m\u001b[0;34m:\u001b[0m\u001b[0;34m\u001b[0m\u001b[0;34m\u001b[0m\u001b[0m\n",
      "\u001b[0;32m~/venvs/cs231n/lib/python3.6/site-packages/keras/backend/tensorflow_backend.py\u001b[0m in \u001b[0;36m_call\u001b[0;34m(self, inputs)\u001b[0m\n\u001b[1;32m   2673\u001b[0m             \u001b[0mfetched\u001b[0m \u001b[0;34m=\u001b[0m \u001b[0mself\u001b[0m\u001b[0;34m.\u001b[0m\u001b[0m_callable_fn\u001b[0m\u001b[0;34m(\u001b[0m\u001b[0;34m*\u001b[0m\u001b[0marray_vals\u001b[0m\u001b[0;34m,\u001b[0m \u001b[0mrun_metadata\u001b[0m\u001b[0;34m=\u001b[0m\u001b[0mself\u001b[0m\u001b[0;34m.\u001b[0m\u001b[0mrun_metadata\u001b[0m\u001b[0;34m)\u001b[0m\u001b[0;34m\u001b[0m\u001b[0;34m\u001b[0m\u001b[0m\n\u001b[1;32m   2674\u001b[0m         \u001b[0;32melse\u001b[0m\u001b[0;34m:\u001b[0m\u001b[0;34m\u001b[0m\u001b[0;34m\u001b[0m\u001b[0m\n\u001b[0;32m-> 2675\u001b[0;31m             \u001b[0mfetched\u001b[0m \u001b[0;34m=\u001b[0m \u001b[0mself\u001b[0m\u001b[0;34m.\u001b[0m\u001b[0m_callable_fn\u001b[0m\u001b[0;34m(\u001b[0m\u001b[0;34m*\u001b[0m\u001b[0marray_vals\u001b[0m\u001b[0;34m)\u001b[0m\u001b[0;34m\u001b[0m\u001b[0;34m\u001b[0m\u001b[0m\n\u001b[0m\u001b[1;32m   2676\u001b[0m         \u001b[0;32mreturn\u001b[0m \u001b[0mfetched\u001b[0m\u001b[0;34m[\u001b[0m\u001b[0;34m:\u001b[0m\u001b[0mlen\u001b[0m\u001b[0;34m(\u001b[0m\u001b[0mself\u001b[0m\u001b[0;34m.\u001b[0m\u001b[0moutputs\u001b[0m\u001b[0;34m)\u001b[0m\u001b[0;34m]\u001b[0m\u001b[0;34m\u001b[0m\u001b[0;34m\u001b[0m\u001b[0m\n\u001b[1;32m   2677\u001b[0m \u001b[0;34m\u001b[0m\u001b[0m\n",
      "\u001b[0;32m~/venvs/cs231n/lib/python3.6/site-packages/tensorflow/python/client/session.py\u001b[0m in \u001b[0;36m__call__\u001b[0;34m(self, *args, **kwargs)\u001b[0m\n\u001b[1;32m   1397\u001b[0m           ret = tf_session.TF_SessionRunCallable(\n\u001b[1;32m   1398\u001b[0m               \u001b[0mself\u001b[0m\u001b[0;34m.\u001b[0m\u001b[0m_session\u001b[0m\u001b[0;34m.\u001b[0m\u001b[0m_session\u001b[0m\u001b[0;34m,\u001b[0m \u001b[0mself\u001b[0m\u001b[0;34m.\u001b[0m\u001b[0m_handle\u001b[0m\u001b[0;34m,\u001b[0m \u001b[0margs\u001b[0m\u001b[0;34m,\u001b[0m \u001b[0mstatus\u001b[0m\u001b[0;34m,\u001b[0m\u001b[0;34m\u001b[0m\u001b[0;34m\u001b[0m\u001b[0m\n\u001b[0;32m-> 1399\u001b[0;31m               run_metadata_ptr)\n\u001b[0m\u001b[1;32m   1400\u001b[0m         \u001b[0;32mif\u001b[0m \u001b[0mrun_metadata\u001b[0m\u001b[0;34m:\u001b[0m\u001b[0;34m\u001b[0m\u001b[0;34m\u001b[0m\u001b[0m\n\u001b[1;32m   1401\u001b[0m           \u001b[0mproto_data\u001b[0m \u001b[0;34m=\u001b[0m \u001b[0mtf_session\u001b[0m\u001b[0;34m.\u001b[0m\u001b[0mTF_GetBuffer\u001b[0m\u001b[0;34m(\u001b[0m\u001b[0mrun_metadata_ptr\u001b[0m\u001b[0;34m)\u001b[0m\u001b[0;34m\u001b[0m\u001b[0;34m\u001b[0m\u001b[0m\n",
      "\u001b[0;31mKeyboardInterrupt\u001b[0m: "
     ]
    }
   ],
   "source": [
    "model.fit(predictors, label, epochs=300, verbose=1, callbacks=[earlystop, checkpointer, tensorboard])"
   ]
  },
  {
   "cell_type": "code",
   "execution_count": null,
   "metadata": {},
   "outputs": [],
   "source": []
  },
  {
   "cell_type": "code",
   "execution_count": null,
   "metadata": {},
   "outputs": [],
   "source": []
  }
 ],
 "metadata": {
  "kernelspec": {
   "display_name": "cs231n",
   "language": "python",
   "name": "cs231n"
  },
  "language_info": {
   "codemirror_mode": {
    "name": "ipython",
    "version": 3
   },
   "file_extension": ".py",
   "mimetype": "text/x-python",
   "name": "python",
   "nbconvert_exporter": "python",
   "pygments_lexer": "ipython3",
   "version": "3.6.7"
  }
 },
 "nbformat": 4,
 "nbformat_minor": 2
}
